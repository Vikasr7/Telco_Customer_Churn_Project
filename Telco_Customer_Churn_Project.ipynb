{
  "cells": [
    {
      "cell_type": "markdown",
      "id": "11709121",
      "metadata": {
        "id": "11709121"
      },
      "source": [
        "# Telco Customer Churn dataset"
      ]
    },
    {
      "cell_type": "markdown",
      "id": "e7abfcef",
      "metadata": {
        "id": "e7abfcef"
      },
      "source": [
        "# Introduction"
      ]
    },
    {
      "cell_type": "markdown",
      "id": "06ed10c8",
      "metadata": {
        "id": "06ed10c8"
      },
      "source": [
        "It’s a Telecommunications Company that provides home phone and internet services to residents in the USA.\n",
        "The company noticed that their customers have been churning for a while. If this continues, the company will incur huge losses. So they immediately worked on a plan to retain their customers.\n",
        "\n",
        "1. To reduce prices and offer special discounts to all their customers in order to retain the customers who might churn. The problem with this solution is that, giving huge discounts to all the customers may cause losses or the company may produce very little profit.\n",
        "2. The company has a huge amount of past data about the customers including the customers who left, so they thought that analyzing their past data may help them predict which customer is likely to churn and if a special offer can retain them. In hopes to reduce additional losses, the company decided to go with the second solution and approached a data scientist to help them analyze the data and to predict the customers likely to churn."
      ]
    },
    {
      "cell_type": "markdown",
      "id": "5aa6e17d",
      "metadata": {
        "id": "5aa6e17d"
      },
      "source": [
        "## Problem Statement:"
      ]
    },
    {
      "cell_type": "markdown",
      "id": "d0031bfc",
      "metadata": {
        "id": "d0031bfc"
      },
      "source": [
        "Target is to do analyze the past data of the company about the customers and set to infer knowledge that where company has to put more effort to improve it's customer count."
      ]
    },
    {
      "cell_type": "markdown",
      "id": "5279bfa5",
      "metadata": {
        "id": "5279bfa5"
      },
      "source": [
        "## Data Set Characteristics:"
      ]
    },
    {
      "cell_type": "markdown",
      "id": "0da32755",
      "metadata": {
        "id": "0da32755"
      },
      "source": [
        "Number of Observations in Data set : 7043 <br></br>\n",
        "Number of features : 33"
      ]
    },
    {
      "cell_type": "markdown",
      "id": "bdd7c826",
      "metadata": {
        "id": "bdd7c826"
      },
      "source": [
        "### Feature Description"
      ]
    },
    {
      "cell_type": "markdown",
      "id": "8ee1a323",
      "metadata": {
        "id": "8ee1a323"
      },
      "source": [
        "|Feature|Data Type|Description|\n",
        "|--------|---------|-----------|\n",
        "|CustomerID|Object|A unique ID that identifies each customer|\n",
        "|Count| Integer |A value used in reporting/dashboarding to sum up the number of customers in a filtered set|\n",
        "|Country| Object |The country of the customer’s primary residence|\n",
        "|State|Object|The state of the customer’s primary residence|\n",
        "|City|Object|The city of the customer’s primary residence.|\n",
        "|Zip Code|Integer|The zip code of the customer’s primary residence.|\n",
        "|Lat Long|Object|The combined latitude and longitude of the customer’s primary residence.|\n",
        "|Latitude|float64|The latitude of the customer’s primary residence.|\n",
        "|Longitude|float64|The longitude of the customer’s primary residence.|\n",
        "|Gender|Object|The customer’s gender: Male, Female|\n",
        "|Senior Citizen|Object|Indicates if the customer is 65 or older: Yes, No|\n",
        "|Partner|Object|Indicate if the customer has a partner: Yes, No|\n",
        "|Dependents|Object| Indicates if the customer lives with any dependents: Yes, No. Dependents could be children, parents, grandparents, etc.|\n",
        "|Tenure Months|Integer|Indicates the total amount of months that the customer has been with the company by the end of the quarter specified above.|\n",
        "|Phone Service|Object|Indicates if the customer subscribes to home phone service with the company: Yes, No|\n",
        "|Multiple Lines|Object|Indicates if the customer subscribes to multiple telephone lines with the company: Yes, No|\n",
        "|Internet Service|Object|Indicates if the customer subscribes to Internet service with the company: No, DSL, Fiber Optic, Cable.|\n",
        "|Online Security|Object| Indicates if the customer subscribes to an additional online security service provided by the company: Yes, No|\n",
        "|Online Backup|Object| Indicates if the customer subscribes to an additional online backup service provided by the company: Yes, No|\n",
        "|Device Protection|Object|Indicates if the customer subscribes to an additional device protection plan for their Internet equipment provided by the company: Yes, No|\n",
        "|Tech Support|Object|Indicates if the customer subscribes to an additional technical support plan from the company with reduced wait times: Yes, No|\n",
        "|Streaming TV|Object| Indicates if the customer uses their Internet service to stream television programing from a third party provider: Yes, No. The company does not charge an additional fee for this service.|\n",
        "|Streaming Movies|Object|Indicates if the customer uses their Internet service to stream movies from a third party provider: Yes, No. The company does not charge an additional fee for this service.|\n",
        "|Contract|Object|Indicates the customer’s current contract type: Month-to-Month, One Year, Two Year.|\n",
        "|Paperless Billing|Object| Indicates if the customer has chosen paperless billing: Yes, No|\n",
        "|Payment Method|Object|Indicates how the customer pays their bill: Bank Withdrawal, Credit Card, Mailed Check|\n",
        "|Monthly Charge|float64|Indicates the customer’s current total monthly charge for all their services from the company.|\n",
        "|Total Charges|Object|Indicates the customer’s total charges, calculated to the end of the quarter specified above.|\n",
        "|Churn Label|Object| Yes = the customer left the company this quarter. No = the customer remained with the company. Directly related to Churn Value.|\n",
        "|Churn Value|Integer|1 = the customer left the company this quarter. 0 = the customer remained with the company. Directly related to Churn Label.|\n",
        "|Churn Score|Integer|A value from 0-100 that is calculated using the predictive tool IBM SPSS Modeler. The model incorporates multiple factors known to cause churn. The higher the score, the more likely the customer will churn.|\n",
        "|CLTV|Integer|Customer Lifetime Value. A predicted CLTV is calculated using corporate formulas and existing data. The higher the value, the more valuable the customer. High value customers should be monitored for churn.|\n",
        "|Churn Reason|Object|A customer’s specific reason for leaving the company. Directly related to Churn Category.|\n"
      ]
    },
    {
      "cell_type": "markdown",
      "id": "cf84374f",
      "metadata": {
        "id": "cf84374f"
      },
      "source": [
        "## Import Dependecies"
      ]
    },
    {
      "cell_type": "code",
      "execution_count": null,
      "id": "3a91c221",
      "metadata": {
        "id": "3a91c221"
      },
      "outputs": [],
      "source": [
        "import numpy as np\n",
        "import pandas as pd\n",
        "import matplotlib.pyplot as plt\n",
        "%matplotlib inline\n",
        "import seaborn as sns\n",
        "import missingno as msno\n",
        "\n",
        "## Display all the columns in a dataframe\n",
        "pd.pandas.set_option('display.max_columns',None)\n",
        "\n",
        "# import warning library\n",
        "import warnings\n",
        "warnings.filterwarnings(\"ignore\")"
      ]
    },
    {
      "cell_type": "markdown",
      "id": "ccf70e73",
      "metadata": {
        "id": "ccf70e73"
      },
      "source": [
        "## Loading the Dataset"
      ]
    },
    {
      "cell_type": "code",
      "execution_count": null,
      "id": "e07a3227",
      "metadata": {
        "id": "e07a3227",
        "outputId": "b26ab444-b076-4ce3-9e3b-b400a017886f"
      },
      "outputs": [
        {
          "data": {
            "text/html": [
              "<div>\n",
              "<style scoped>\n",
              "    .dataframe tbody tr th:only-of-type {\n",
              "        vertical-align: middle;\n",
              "    }\n",
              "\n",
              "    .dataframe tbody tr th {\n",
              "        vertical-align: top;\n",
              "    }\n",
              "\n",
              "    .dataframe thead th {\n",
              "        text-align: right;\n",
              "    }\n",
              "</style>\n",
              "<table border=\"1\" class=\"dataframe\">\n",
              "  <thead>\n",
              "    <tr style=\"text-align: right;\">\n",
              "      <th></th>\n",
              "      <th>CustomerID</th>\n",
              "      <th>Count</th>\n",
              "      <th>Country</th>\n",
              "      <th>State</th>\n",
              "      <th>City</th>\n",
              "      <th>Zip Code</th>\n",
              "      <th>Lat Long</th>\n",
              "      <th>Latitude</th>\n",
              "      <th>Longitude</th>\n",
              "      <th>Gender</th>\n",
              "      <th>Senior Citizen</th>\n",
              "      <th>Partner</th>\n",
              "      <th>Dependents</th>\n",
              "      <th>Tenure Months</th>\n",
              "      <th>Phone Service</th>\n",
              "      <th>Multiple Lines</th>\n",
              "      <th>Internet Service</th>\n",
              "      <th>Online Security</th>\n",
              "      <th>Online Backup</th>\n",
              "      <th>Device Protection</th>\n",
              "      <th>Tech Support</th>\n",
              "      <th>Streaming TV</th>\n",
              "      <th>Streaming Movies</th>\n",
              "      <th>Contract</th>\n",
              "      <th>Paperless Billing</th>\n",
              "      <th>Payment Method</th>\n",
              "      <th>Monthly Charges</th>\n",
              "      <th>Total Charges</th>\n",
              "      <th>Churn Label</th>\n",
              "      <th>Churn Value</th>\n",
              "      <th>Churn Score</th>\n",
              "      <th>CLTV</th>\n",
              "      <th>Churn Reason</th>\n",
              "    </tr>\n",
              "  </thead>\n",
              "  <tbody>\n",
              "    <tr>\n",
              "      <th>0</th>\n",
              "      <td>3668-QPYBK</td>\n",
              "      <td>1</td>\n",
              "      <td>United States</td>\n",
              "      <td>California</td>\n",
              "      <td>Los Angeles</td>\n",
              "      <td>90003</td>\n",
              "      <td>33.964131, -118.272783</td>\n",
              "      <td>33.964131</td>\n",
              "      <td>-118.272783</td>\n",
              "      <td>Male</td>\n",
              "      <td>No</td>\n",
              "      <td>No</td>\n",
              "      <td>No</td>\n",
              "      <td>2</td>\n",
              "      <td>Yes</td>\n",
              "      <td>No</td>\n",
              "      <td>DSL</td>\n",
              "      <td>Yes</td>\n",
              "      <td>Yes</td>\n",
              "      <td>No</td>\n",
              "      <td>No</td>\n",
              "      <td>No</td>\n",
              "      <td>No</td>\n",
              "      <td>Month-to-month</td>\n",
              "      <td>Yes</td>\n",
              "      <td>Mailed check</td>\n",
              "      <td>53.85</td>\n",
              "      <td>108.15</td>\n",
              "      <td>Yes</td>\n",
              "      <td>1</td>\n",
              "      <td>86</td>\n",
              "      <td>3239</td>\n",
              "      <td>Competitor made better offer</td>\n",
              "    </tr>\n",
              "    <tr>\n",
              "      <th>1</th>\n",
              "      <td>9237-HQITU</td>\n",
              "      <td>1</td>\n",
              "      <td>United States</td>\n",
              "      <td>California</td>\n",
              "      <td>Los Angeles</td>\n",
              "      <td>90005</td>\n",
              "      <td>34.059281, -118.30742</td>\n",
              "      <td>34.059281</td>\n",
              "      <td>-118.307420</td>\n",
              "      <td>Female</td>\n",
              "      <td>No</td>\n",
              "      <td>No</td>\n",
              "      <td>Yes</td>\n",
              "      <td>2</td>\n",
              "      <td>Yes</td>\n",
              "      <td>No</td>\n",
              "      <td>Fiber optic</td>\n",
              "      <td>No</td>\n",
              "      <td>No</td>\n",
              "      <td>No</td>\n",
              "      <td>No</td>\n",
              "      <td>No</td>\n",
              "      <td>No</td>\n",
              "      <td>Month-to-month</td>\n",
              "      <td>Yes</td>\n",
              "      <td>Electronic check</td>\n",
              "      <td>70.70</td>\n",
              "      <td>151.65</td>\n",
              "      <td>Yes</td>\n",
              "      <td>1</td>\n",
              "      <td>67</td>\n",
              "      <td>2701</td>\n",
              "      <td>Moved</td>\n",
              "    </tr>\n",
              "    <tr>\n",
              "      <th>2</th>\n",
              "      <td>9305-CDSKC</td>\n",
              "      <td>1</td>\n",
              "      <td>United States</td>\n",
              "      <td>California</td>\n",
              "      <td>Los Angeles</td>\n",
              "      <td>90006</td>\n",
              "      <td>34.048013, -118.293953</td>\n",
              "      <td>34.048013</td>\n",
              "      <td>-118.293953</td>\n",
              "      <td>Female</td>\n",
              "      <td>No</td>\n",
              "      <td>No</td>\n",
              "      <td>Yes</td>\n",
              "      <td>8</td>\n",
              "      <td>Yes</td>\n",
              "      <td>Yes</td>\n",
              "      <td>Fiber optic</td>\n",
              "      <td>No</td>\n",
              "      <td>No</td>\n",
              "      <td>Yes</td>\n",
              "      <td>No</td>\n",
              "      <td>Yes</td>\n",
              "      <td>Yes</td>\n",
              "      <td>Month-to-month</td>\n",
              "      <td>Yes</td>\n",
              "      <td>Electronic check</td>\n",
              "      <td>99.65</td>\n",
              "      <td>820.5</td>\n",
              "      <td>Yes</td>\n",
              "      <td>1</td>\n",
              "      <td>86</td>\n",
              "      <td>5372</td>\n",
              "      <td>Moved</td>\n",
              "    </tr>\n",
              "    <tr>\n",
              "      <th>3</th>\n",
              "      <td>7892-POOKP</td>\n",
              "      <td>1</td>\n",
              "      <td>United States</td>\n",
              "      <td>California</td>\n",
              "      <td>Los Angeles</td>\n",
              "      <td>90010</td>\n",
              "      <td>34.062125, -118.315709</td>\n",
              "      <td>34.062125</td>\n",
              "      <td>-118.315709</td>\n",
              "      <td>Female</td>\n",
              "      <td>No</td>\n",
              "      <td>Yes</td>\n",
              "      <td>Yes</td>\n",
              "      <td>28</td>\n",
              "      <td>Yes</td>\n",
              "      <td>Yes</td>\n",
              "      <td>Fiber optic</td>\n",
              "      <td>No</td>\n",
              "      <td>No</td>\n",
              "      <td>Yes</td>\n",
              "      <td>Yes</td>\n",
              "      <td>Yes</td>\n",
              "      <td>Yes</td>\n",
              "      <td>Month-to-month</td>\n",
              "      <td>Yes</td>\n",
              "      <td>Electronic check</td>\n",
              "      <td>104.80</td>\n",
              "      <td>3046.05</td>\n",
              "      <td>Yes</td>\n",
              "      <td>1</td>\n",
              "      <td>84</td>\n",
              "      <td>5003</td>\n",
              "      <td>Moved</td>\n",
              "    </tr>\n",
              "    <tr>\n",
              "      <th>4</th>\n",
              "      <td>0280-XJGEX</td>\n",
              "      <td>1</td>\n",
              "      <td>United States</td>\n",
              "      <td>California</td>\n",
              "      <td>Los Angeles</td>\n",
              "      <td>90015</td>\n",
              "      <td>34.039224, -118.266293</td>\n",
              "      <td>34.039224</td>\n",
              "      <td>-118.266293</td>\n",
              "      <td>Male</td>\n",
              "      <td>No</td>\n",
              "      <td>No</td>\n",
              "      <td>Yes</td>\n",
              "      <td>49</td>\n",
              "      <td>Yes</td>\n",
              "      <td>Yes</td>\n",
              "      <td>Fiber optic</td>\n",
              "      <td>No</td>\n",
              "      <td>Yes</td>\n",
              "      <td>Yes</td>\n",
              "      <td>No</td>\n",
              "      <td>Yes</td>\n",
              "      <td>Yes</td>\n",
              "      <td>Month-to-month</td>\n",
              "      <td>Yes</td>\n",
              "      <td>Bank transfer (automatic)</td>\n",
              "      <td>103.70</td>\n",
              "      <td>5036.3</td>\n",
              "      <td>Yes</td>\n",
              "      <td>1</td>\n",
              "      <td>89</td>\n",
              "      <td>5340</td>\n",
              "      <td>Competitor had better devices</td>\n",
              "    </tr>\n",
              "  </tbody>\n",
              "</table>\n",
              "</div>"
            ],
            "text/plain": [
              "   CustomerID  Count        Country       State         City  Zip Code  \\\n",
              "0  3668-QPYBK      1  United States  California  Los Angeles     90003   \n",
              "1  9237-HQITU      1  United States  California  Los Angeles     90005   \n",
              "2  9305-CDSKC      1  United States  California  Los Angeles     90006   \n",
              "3  7892-POOKP      1  United States  California  Los Angeles     90010   \n",
              "4  0280-XJGEX      1  United States  California  Los Angeles     90015   \n",
              "\n",
              "                 Lat Long   Latitude   Longitude  Gender Senior Citizen  \\\n",
              "0  33.964131, -118.272783  33.964131 -118.272783    Male             No   \n",
              "1   34.059281, -118.30742  34.059281 -118.307420  Female             No   \n",
              "2  34.048013, -118.293953  34.048013 -118.293953  Female             No   \n",
              "3  34.062125, -118.315709  34.062125 -118.315709  Female             No   \n",
              "4  34.039224, -118.266293  34.039224 -118.266293    Male             No   \n",
              "\n",
              "  Partner Dependents  Tenure Months Phone Service Multiple Lines  \\\n",
              "0      No         No              2           Yes             No   \n",
              "1      No        Yes              2           Yes             No   \n",
              "2      No        Yes              8           Yes            Yes   \n",
              "3     Yes        Yes             28           Yes            Yes   \n",
              "4      No        Yes             49           Yes            Yes   \n",
              "\n",
              "  Internet Service Online Security Online Backup Device Protection  \\\n",
              "0              DSL             Yes           Yes                No   \n",
              "1      Fiber optic              No            No                No   \n",
              "2      Fiber optic              No            No               Yes   \n",
              "3      Fiber optic              No            No               Yes   \n",
              "4      Fiber optic              No           Yes               Yes   \n",
              "\n",
              "  Tech Support Streaming TV Streaming Movies        Contract  \\\n",
              "0           No           No               No  Month-to-month   \n",
              "1           No           No               No  Month-to-month   \n",
              "2           No          Yes              Yes  Month-to-month   \n",
              "3          Yes          Yes              Yes  Month-to-month   \n",
              "4           No          Yes              Yes  Month-to-month   \n",
              "\n",
              "  Paperless Billing             Payment Method  Monthly Charges Total Charges  \\\n",
              "0               Yes               Mailed check            53.85        108.15   \n",
              "1               Yes           Electronic check            70.70        151.65   \n",
              "2               Yes           Electronic check            99.65         820.5   \n",
              "3               Yes           Electronic check           104.80       3046.05   \n",
              "4               Yes  Bank transfer (automatic)           103.70        5036.3   \n",
              "\n",
              "  Churn Label  Churn Value  Churn Score  CLTV                   Churn Reason  \n",
              "0         Yes            1           86  3239   Competitor made better offer  \n",
              "1         Yes            1           67  2701                          Moved  \n",
              "2         Yes            1           86  5372                          Moved  \n",
              "3         Yes            1           84  5003                          Moved  \n",
              "4         Yes            1           89  5340  Competitor had better devices  "
            ]
          },
          "execution_count": 2,
          "metadata": {},
          "output_type": "execute_result"
        }
      ],
      "source": [
        "telco = pd.read_csv(r'Telco_customer_churn.xlsx - Telco_Churn.csv')\n",
        "telco.head()  # first 5 rows"
      ]
    },
    {
      "cell_type": "code",
      "execution_count": null,
      "id": "7b6953e7",
      "metadata": {
        "id": "7b6953e7",
        "outputId": "eef52d83-f043-44ba-ff34-9f45fa2df50c"
      },
      "outputs": [
        {
          "data": {
            "text/html": [
              "<div>\n",
              "<style scoped>\n",
              "    .dataframe tbody tr th:only-of-type {\n",
              "        vertical-align: middle;\n",
              "    }\n",
              "\n",
              "    .dataframe tbody tr th {\n",
              "        vertical-align: top;\n",
              "    }\n",
              "\n",
              "    .dataframe thead th {\n",
              "        text-align: right;\n",
              "    }\n",
              "</style>\n",
              "<table border=\"1\" class=\"dataframe\">\n",
              "  <thead>\n",
              "    <tr style=\"text-align: right;\">\n",
              "      <th></th>\n",
              "      <th>CustomerID</th>\n",
              "      <th>Count</th>\n",
              "      <th>Country</th>\n",
              "      <th>State</th>\n",
              "      <th>City</th>\n",
              "      <th>Zip Code</th>\n",
              "      <th>Lat Long</th>\n",
              "      <th>Latitude</th>\n",
              "      <th>Longitude</th>\n",
              "      <th>Gender</th>\n",
              "      <th>Senior Citizen</th>\n",
              "      <th>Partner</th>\n",
              "      <th>Dependents</th>\n",
              "      <th>Tenure Months</th>\n",
              "      <th>Phone Service</th>\n",
              "      <th>Multiple Lines</th>\n",
              "      <th>Internet Service</th>\n",
              "      <th>Online Security</th>\n",
              "      <th>Online Backup</th>\n",
              "      <th>Device Protection</th>\n",
              "      <th>Tech Support</th>\n",
              "      <th>Streaming TV</th>\n",
              "      <th>Streaming Movies</th>\n",
              "      <th>Contract</th>\n",
              "      <th>Paperless Billing</th>\n",
              "      <th>Payment Method</th>\n",
              "      <th>Monthly Charges</th>\n",
              "      <th>Total Charges</th>\n",
              "      <th>Churn Label</th>\n",
              "      <th>Churn Value</th>\n",
              "      <th>Churn Score</th>\n",
              "      <th>CLTV</th>\n",
              "      <th>Churn Reason</th>\n",
              "    </tr>\n",
              "  </thead>\n",
              "  <tbody>\n",
              "    <tr>\n",
              "      <th>7038</th>\n",
              "      <td>2569-WGERO</td>\n",
              "      <td>1</td>\n",
              "      <td>United States</td>\n",
              "      <td>California</td>\n",
              "      <td>Landers</td>\n",
              "      <td>92285</td>\n",
              "      <td>34.341737, -116.539416</td>\n",
              "      <td>34.341737</td>\n",
              "      <td>-116.539416</td>\n",
              "      <td>Female</td>\n",
              "      <td>No</td>\n",
              "      <td>No</td>\n",
              "      <td>No</td>\n",
              "      <td>72</td>\n",
              "      <td>Yes</td>\n",
              "      <td>No</td>\n",
              "      <td>No</td>\n",
              "      <td>No internet service</td>\n",
              "      <td>No internet service</td>\n",
              "      <td>No internet service</td>\n",
              "      <td>No internet service</td>\n",
              "      <td>No internet service</td>\n",
              "      <td>No internet service</td>\n",
              "      <td>Two year</td>\n",
              "      <td>Yes</td>\n",
              "      <td>Bank transfer (automatic)</td>\n",
              "      <td>21.15</td>\n",
              "      <td>1419.4</td>\n",
              "      <td>No</td>\n",
              "      <td>0</td>\n",
              "      <td>45</td>\n",
              "      <td>5306</td>\n",
              "      <td>NaN</td>\n",
              "    </tr>\n",
              "    <tr>\n",
              "      <th>7039</th>\n",
              "      <td>6840-RESVB</td>\n",
              "      <td>1</td>\n",
              "      <td>United States</td>\n",
              "      <td>California</td>\n",
              "      <td>Adelanto</td>\n",
              "      <td>92301</td>\n",
              "      <td>34.667815, -117.536183</td>\n",
              "      <td>34.667815</td>\n",
              "      <td>-117.536183</td>\n",
              "      <td>Male</td>\n",
              "      <td>No</td>\n",
              "      <td>Yes</td>\n",
              "      <td>Yes</td>\n",
              "      <td>24</td>\n",
              "      <td>Yes</td>\n",
              "      <td>Yes</td>\n",
              "      <td>DSL</td>\n",
              "      <td>Yes</td>\n",
              "      <td>No</td>\n",
              "      <td>Yes</td>\n",
              "      <td>Yes</td>\n",
              "      <td>Yes</td>\n",
              "      <td>Yes</td>\n",
              "      <td>One year</td>\n",
              "      <td>Yes</td>\n",
              "      <td>Mailed check</td>\n",
              "      <td>84.80</td>\n",
              "      <td>1990.5</td>\n",
              "      <td>No</td>\n",
              "      <td>0</td>\n",
              "      <td>59</td>\n",
              "      <td>2140</td>\n",
              "      <td>NaN</td>\n",
              "    </tr>\n",
              "    <tr>\n",
              "      <th>7040</th>\n",
              "      <td>2234-XADUH</td>\n",
              "      <td>1</td>\n",
              "      <td>United States</td>\n",
              "      <td>California</td>\n",
              "      <td>Amboy</td>\n",
              "      <td>92304</td>\n",
              "      <td>34.559882, -115.637164</td>\n",
              "      <td>34.559882</td>\n",
              "      <td>-115.637164</td>\n",
              "      <td>Female</td>\n",
              "      <td>No</td>\n",
              "      <td>Yes</td>\n",
              "      <td>Yes</td>\n",
              "      <td>72</td>\n",
              "      <td>Yes</td>\n",
              "      <td>Yes</td>\n",
              "      <td>Fiber optic</td>\n",
              "      <td>No</td>\n",
              "      <td>Yes</td>\n",
              "      <td>Yes</td>\n",
              "      <td>No</td>\n",
              "      <td>Yes</td>\n",
              "      <td>Yes</td>\n",
              "      <td>One year</td>\n",
              "      <td>Yes</td>\n",
              "      <td>Credit card (automatic)</td>\n",
              "      <td>103.20</td>\n",
              "      <td>7362.9</td>\n",
              "      <td>No</td>\n",
              "      <td>0</td>\n",
              "      <td>71</td>\n",
              "      <td>5560</td>\n",
              "      <td>NaN</td>\n",
              "    </tr>\n",
              "    <tr>\n",
              "      <th>7041</th>\n",
              "      <td>4801-JZAZL</td>\n",
              "      <td>1</td>\n",
              "      <td>United States</td>\n",
              "      <td>California</td>\n",
              "      <td>Angelus Oaks</td>\n",
              "      <td>92305</td>\n",
              "      <td>34.1678, -116.86433</td>\n",
              "      <td>34.167800</td>\n",
              "      <td>-116.864330</td>\n",
              "      <td>Female</td>\n",
              "      <td>No</td>\n",
              "      <td>Yes</td>\n",
              "      <td>Yes</td>\n",
              "      <td>11</td>\n",
              "      <td>No</td>\n",
              "      <td>No phone service</td>\n",
              "      <td>DSL</td>\n",
              "      <td>Yes</td>\n",
              "      <td>No</td>\n",
              "      <td>No</td>\n",
              "      <td>No</td>\n",
              "      <td>No</td>\n",
              "      <td>No</td>\n",
              "      <td>Month-to-month</td>\n",
              "      <td>Yes</td>\n",
              "      <td>Electronic check</td>\n",
              "      <td>29.60</td>\n",
              "      <td>346.45</td>\n",
              "      <td>No</td>\n",
              "      <td>0</td>\n",
              "      <td>59</td>\n",
              "      <td>2793</td>\n",
              "      <td>NaN</td>\n",
              "    </tr>\n",
              "    <tr>\n",
              "      <th>7042</th>\n",
              "      <td>3186-AJIEK</td>\n",
              "      <td>1</td>\n",
              "      <td>United States</td>\n",
              "      <td>California</td>\n",
              "      <td>Apple Valley</td>\n",
              "      <td>92308</td>\n",
              "      <td>34.424926, -117.184503</td>\n",
              "      <td>34.424926</td>\n",
              "      <td>-117.184503</td>\n",
              "      <td>Male</td>\n",
              "      <td>No</td>\n",
              "      <td>No</td>\n",
              "      <td>No</td>\n",
              "      <td>66</td>\n",
              "      <td>Yes</td>\n",
              "      <td>No</td>\n",
              "      <td>Fiber optic</td>\n",
              "      <td>Yes</td>\n",
              "      <td>No</td>\n",
              "      <td>Yes</td>\n",
              "      <td>Yes</td>\n",
              "      <td>Yes</td>\n",
              "      <td>Yes</td>\n",
              "      <td>Two year</td>\n",
              "      <td>Yes</td>\n",
              "      <td>Bank transfer (automatic)</td>\n",
              "      <td>105.65</td>\n",
              "      <td>6844.5</td>\n",
              "      <td>No</td>\n",
              "      <td>0</td>\n",
              "      <td>38</td>\n",
              "      <td>5097</td>\n",
              "      <td>NaN</td>\n",
              "    </tr>\n",
              "  </tbody>\n",
              "</table>\n",
              "</div>"
            ],
            "text/plain": [
              "      CustomerID  Count        Country       State          City  Zip Code  \\\n",
              "7038  2569-WGERO      1  United States  California       Landers     92285   \n",
              "7039  6840-RESVB      1  United States  California      Adelanto     92301   \n",
              "7040  2234-XADUH      1  United States  California         Amboy     92304   \n",
              "7041  4801-JZAZL      1  United States  California  Angelus Oaks     92305   \n",
              "7042  3186-AJIEK      1  United States  California  Apple Valley     92308   \n",
              "\n",
              "                    Lat Long   Latitude   Longitude  Gender Senior Citizen  \\\n",
              "7038  34.341737, -116.539416  34.341737 -116.539416  Female             No   \n",
              "7039  34.667815, -117.536183  34.667815 -117.536183    Male             No   \n",
              "7040  34.559882, -115.637164  34.559882 -115.637164  Female             No   \n",
              "7041     34.1678, -116.86433  34.167800 -116.864330  Female             No   \n",
              "7042  34.424926, -117.184503  34.424926 -117.184503    Male             No   \n",
              "\n",
              "     Partner Dependents  Tenure Months Phone Service    Multiple Lines  \\\n",
              "7038      No         No             72           Yes                No   \n",
              "7039     Yes        Yes             24           Yes               Yes   \n",
              "7040     Yes        Yes             72           Yes               Yes   \n",
              "7041     Yes        Yes             11            No  No phone service   \n",
              "7042      No         No             66           Yes                No   \n",
              "\n",
              "     Internet Service      Online Security        Online Backup  \\\n",
              "7038               No  No internet service  No internet service   \n",
              "7039              DSL                  Yes                   No   \n",
              "7040      Fiber optic                   No                  Yes   \n",
              "7041              DSL                  Yes                   No   \n",
              "7042      Fiber optic                  Yes                   No   \n",
              "\n",
              "        Device Protection         Tech Support         Streaming TV  \\\n",
              "7038  No internet service  No internet service  No internet service   \n",
              "7039                  Yes                  Yes                  Yes   \n",
              "7040                  Yes                   No                  Yes   \n",
              "7041                   No                   No                   No   \n",
              "7042                  Yes                  Yes                  Yes   \n",
              "\n",
              "         Streaming Movies        Contract Paperless Billing  \\\n",
              "7038  No internet service        Two year               Yes   \n",
              "7039                  Yes        One year               Yes   \n",
              "7040                  Yes        One year               Yes   \n",
              "7041                   No  Month-to-month               Yes   \n",
              "7042                  Yes        Two year               Yes   \n",
              "\n",
              "                 Payment Method  Monthly Charges Total Charges Churn Label  \\\n",
              "7038  Bank transfer (automatic)            21.15        1419.4          No   \n",
              "7039               Mailed check            84.80        1990.5          No   \n",
              "7040    Credit card (automatic)           103.20        7362.9          No   \n",
              "7041           Electronic check            29.60        346.45          No   \n",
              "7042  Bank transfer (automatic)           105.65        6844.5          No   \n",
              "\n",
              "      Churn Value  Churn Score  CLTV Churn Reason  \n",
              "7038            0           45  5306          NaN  \n",
              "7039            0           59  2140          NaN  \n",
              "7040            0           71  5560          NaN  \n",
              "7041            0           59  2793          NaN  \n",
              "7042            0           38  5097          NaN  "
            ]
          },
          "execution_count": 3,
          "metadata": {},
          "output_type": "execute_result"
        }
      ],
      "source": [
        "telco.tail() #last 5 rows"
      ]
    },
    {
      "cell_type": "code",
      "execution_count": null,
      "id": "8a5d6e7c",
      "metadata": {
        "id": "8a5d6e7c",
        "outputId": "4b95c7a1-d5db-49af-88a4-9db5abc3b5e9"
      },
      "outputs": [
        {
          "data": {
            "text/plain": [
              "(7043, 33)"
            ]
          },
          "execution_count": 4,
          "metadata": {},
          "output_type": "execute_result"
        }
      ],
      "source": [
        "telco.shape # shape of data set"
      ]
    },
    {
      "cell_type": "markdown",
      "id": "524816f7",
      "metadata": {
        "id": "524816f7"
      },
      "source": [
        "In this DataFrame, there are 7043 Observations and 33 Features."
      ]
    },
    {
      "cell_type": "markdown",
      "id": "2f33a845",
      "metadata": {
        "id": "2f33a845"
      },
      "source": [
        "## Exploration of data"
      ]
    },
    {
      "cell_type": "code",
      "execution_count": null,
      "id": "1fe98641",
      "metadata": {
        "id": "1fe98641",
        "outputId": "d246ecdd-4e3c-43f5-bc52-3642a9bb007e"
      },
      "outputs": [
        {
          "name": "stdout",
          "output_type": "stream",
          "text": [
            "<class 'pandas.core.frame.DataFrame'>\n",
            "RangeIndex: 7043 entries, 0 to 7042\n",
            "Data columns (total 33 columns):\n",
            " #   Column             Non-Null Count  Dtype  \n",
            "---  ------             --------------  -----  \n",
            " 0   CustomerID         7043 non-null   object \n",
            " 1   Count              7043 non-null   int64  \n",
            " 2   Country            7043 non-null   object \n",
            " 3   State              7043 non-null   object \n",
            " 4   City               7043 non-null   object \n",
            " 5   Zip Code           7043 non-null   int64  \n",
            " 6   Lat Long           7043 non-null   object \n",
            " 7   Latitude           7043 non-null   float64\n",
            " 8   Longitude          7043 non-null   float64\n",
            " 9   Gender             7043 non-null   object \n",
            " 10  Senior Citizen     7043 non-null   object \n",
            " 11  Partner            7043 non-null   object \n",
            " 12  Dependents         7043 non-null   object \n",
            " 13  Tenure Months      7043 non-null   int64  \n",
            " 14  Phone Service      7043 non-null   object \n",
            " 15  Multiple Lines     7043 non-null   object \n",
            " 16  Internet Service   7043 non-null   object \n",
            " 17  Online Security    7043 non-null   object \n",
            " 18  Online Backup      7043 non-null   object \n",
            " 19  Device Protection  7043 non-null   object \n",
            " 20  Tech Support       7043 non-null   object \n",
            " 21  Streaming TV       7043 non-null   object \n",
            " 22  Streaming Movies   7043 non-null   object \n",
            " 23  Contract           7043 non-null   object \n",
            " 24  Paperless Billing  7043 non-null   object \n",
            " 25  Payment Method     7043 non-null   object \n",
            " 26  Monthly Charges    7043 non-null   float64\n",
            " 27  Total Charges      7043 non-null   object \n",
            " 28  Churn Label        7043 non-null   object \n",
            " 29  Churn Value        7043 non-null   int64  \n",
            " 30  Churn Score        7043 non-null   int64  \n",
            " 31  CLTV               7043 non-null   int64  \n",
            " 32  Churn Reason       1869 non-null   object \n",
            "dtypes: float64(3), int64(6), object(24)\n",
            "memory usage: 1.8+ MB\n"
          ]
        }
      ],
      "source": [
        "telco.info()  # information about all the features"
      ]
    },
    {
      "cell_type": "markdown",
      "id": "29487536",
      "metadata": {
        "id": "29487536"
      },
      "source": [
        "###  Statistical summary of the dataframe"
      ]
    },
    {
      "cell_type": "code",
      "execution_count": null,
      "id": "b99b7556",
      "metadata": {
        "id": "b99b7556",
        "outputId": "1ea9184d-ca28-4d9e-ba45-db8832c66ba1"
      },
      "outputs": [
        {
          "data": {
            "text/html": [
              "<div>\n",
              "<style scoped>\n",
              "    .dataframe tbody tr th:only-of-type {\n",
              "        vertical-align: middle;\n",
              "    }\n",
              "\n",
              "    .dataframe tbody tr th {\n",
              "        vertical-align: top;\n",
              "    }\n",
              "\n",
              "    .dataframe thead th {\n",
              "        text-align: right;\n",
              "    }\n",
              "</style>\n",
              "<table border=\"1\" class=\"dataframe\">\n",
              "  <thead>\n",
              "    <tr style=\"text-align: right;\">\n",
              "      <th></th>\n",
              "      <th>Count</th>\n",
              "      <th>Zip Code</th>\n",
              "      <th>Latitude</th>\n",
              "      <th>Longitude</th>\n",
              "      <th>Tenure Months</th>\n",
              "      <th>Monthly Charges</th>\n",
              "      <th>Churn Value</th>\n",
              "      <th>Churn Score</th>\n",
              "      <th>CLTV</th>\n",
              "    </tr>\n",
              "  </thead>\n",
              "  <tbody>\n",
              "    <tr>\n",
              "      <th>count</th>\n",
              "      <td>7043.0</td>\n",
              "      <td>7043.000000</td>\n",
              "      <td>7043.000000</td>\n",
              "      <td>7043.000000</td>\n",
              "      <td>7043.000000</td>\n",
              "      <td>7043.000000</td>\n",
              "      <td>7043.000000</td>\n",
              "      <td>7043.000000</td>\n",
              "      <td>7043.000000</td>\n",
              "    </tr>\n",
              "    <tr>\n",
              "      <th>mean</th>\n",
              "      <td>1.0</td>\n",
              "      <td>93521.964646</td>\n",
              "      <td>36.282441</td>\n",
              "      <td>-119.798880</td>\n",
              "      <td>32.371149</td>\n",
              "      <td>64.761692</td>\n",
              "      <td>0.265370</td>\n",
              "      <td>58.699418</td>\n",
              "      <td>4400.295755</td>\n",
              "    </tr>\n",
              "    <tr>\n",
              "      <th>std</th>\n",
              "      <td>0.0</td>\n",
              "      <td>1865.794555</td>\n",
              "      <td>2.455723</td>\n",
              "      <td>2.157889</td>\n",
              "      <td>24.559481</td>\n",
              "      <td>30.090047</td>\n",
              "      <td>0.441561</td>\n",
              "      <td>21.525131</td>\n",
              "      <td>1183.057152</td>\n",
              "    </tr>\n",
              "    <tr>\n",
              "      <th>min</th>\n",
              "      <td>1.0</td>\n",
              "      <td>90001.000000</td>\n",
              "      <td>32.555828</td>\n",
              "      <td>-124.301372</td>\n",
              "      <td>0.000000</td>\n",
              "      <td>18.250000</td>\n",
              "      <td>0.000000</td>\n",
              "      <td>5.000000</td>\n",
              "      <td>2003.000000</td>\n",
              "    </tr>\n",
              "    <tr>\n",
              "      <th>25%</th>\n",
              "      <td>1.0</td>\n",
              "      <td>92102.000000</td>\n",
              "      <td>34.030915</td>\n",
              "      <td>-121.815412</td>\n",
              "      <td>9.000000</td>\n",
              "      <td>35.500000</td>\n",
              "      <td>0.000000</td>\n",
              "      <td>40.000000</td>\n",
              "      <td>3469.000000</td>\n",
              "    </tr>\n",
              "    <tr>\n",
              "      <th>50%</th>\n",
              "      <td>1.0</td>\n",
              "      <td>93552.000000</td>\n",
              "      <td>36.391777</td>\n",
              "      <td>-119.730885</td>\n",
              "      <td>29.000000</td>\n",
              "      <td>70.350000</td>\n",
              "      <td>0.000000</td>\n",
              "      <td>61.000000</td>\n",
              "      <td>4527.000000</td>\n",
              "    </tr>\n",
              "    <tr>\n",
              "      <th>75%</th>\n",
              "      <td>1.0</td>\n",
              "      <td>95351.000000</td>\n",
              "      <td>38.224869</td>\n",
              "      <td>-118.043237</td>\n",
              "      <td>55.000000</td>\n",
              "      <td>89.850000</td>\n",
              "      <td>1.000000</td>\n",
              "      <td>75.000000</td>\n",
              "      <td>5380.500000</td>\n",
              "    </tr>\n",
              "    <tr>\n",
              "      <th>max</th>\n",
              "      <td>1.0</td>\n",
              "      <td>96161.000000</td>\n",
              "      <td>41.962127</td>\n",
              "      <td>-114.192901</td>\n",
              "      <td>72.000000</td>\n",
              "      <td>118.750000</td>\n",
              "      <td>1.000000</td>\n",
              "      <td>100.000000</td>\n",
              "      <td>6500.000000</td>\n",
              "    </tr>\n",
              "  </tbody>\n",
              "</table>\n",
              "</div>"
            ],
            "text/plain": [
              "        Count      Zip Code     Latitude    Longitude  Tenure Months  \\\n",
              "count  7043.0   7043.000000  7043.000000  7043.000000    7043.000000   \n",
              "mean      1.0  93521.964646    36.282441  -119.798880      32.371149   \n",
              "std       0.0   1865.794555     2.455723     2.157889      24.559481   \n",
              "min       1.0  90001.000000    32.555828  -124.301372       0.000000   \n",
              "25%       1.0  92102.000000    34.030915  -121.815412       9.000000   \n",
              "50%       1.0  93552.000000    36.391777  -119.730885      29.000000   \n",
              "75%       1.0  95351.000000    38.224869  -118.043237      55.000000   \n",
              "max       1.0  96161.000000    41.962127  -114.192901      72.000000   \n",
              "\n",
              "       Monthly Charges  Churn Value  Churn Score         CLTV  \n",
              "count      7043.000000  7043.000000  7043.000000  7043.000000  \n",
              "mean         64.761692     0.265370    58.699418  4400.295755  \n",
              "std          30.090047     0.441561    21.525131  1183.057152  \n",
              "min          18.250000     0.000000     5.000000  2003.000000  \n",
              "25%          35.500000     0.000000    40.000000  3469.000000  \n",
              "50%          70.350000     0.000000    61.000000  4527.000000  \n",
              "75%          89.850000     1.000000    75.000000  5380.500000  \n",
              "max         118.750000     1.000000   100.000000  6500.000000  "
            ]
          },
          "execution_count": 6,
          "metadata": {},
          "output_type": "execute_result"
        }
      ],
      "source": [
        "telco.describe()"
      ]
    },
    {
      "cell_type": "code",
      "execution_count": null,
      "id": "5e39769a",
      "metadata": {
        "id": "5e39769a",
        "outputId": "cd1ae4c4-2368-42fc-cef7-1ea0a5462aed"
      },
      "outputs": [
        {
          "data": {
            "text/plain": [
              "Index(['CustomerID', 'Count', 'Country', 'State', 'City', 'Zip Code',\n",
              "       'Lat Long', 'Latitude', 'Longitude', 'Gender', 'Senior Citizen',\n",
              "       'Partner', 'Dependents', 'Tenure Months', 'Phone Service',\n",
              "       'Multiple Lines', 'Internet Service', 'Online Security',\n",
              "       'Online Backup', 'Device Protection', 'Tech Support', 'Streaming TV',\n",
              "       'Streaming Movies', 'Contract', 'Paperless Billing', 'Payment Method',\n",
              "       'Monthly Charges', 'Total Charges', 'Churn Label', 'Churn Value',\n",
              "       'Churn Score', 'CLTV', 'Churn Reason'],\n",
              "      dtype='object')"
            ]
          },
          "execution_count": 7,
          "metadata": {},
          "output_type": "execute_result"
        }
      ],
      "source": [
        "telco.columns   # total columns in the dataframe"
      ]
    },
    {
      "cell_type": "markdown",
      "id": "4a009276",
      "metadata": {
        "id": "4a009276"
      },
      "source": [
        "Removing the spaces between the columns names by using the rename method because for easy to use"
      ]
    },
    {
      "cell_type": "code",
      "execution_count": null,
      "id": "ec8040aa",
      "metadata": {
        "id": "ec8040aa"
      },
      "outputs": [],
      "source": [
        "# Renaming the columns in the dataframe\n",
        "telco = telco.rename(columns = {'Zip Code':'Zip_Code','Lat Long':'Lat_Long','Senior Citizen':'Senior_Citizen','Tenure Months':'Tenure_Months','Phone Service':'Phone_Service','Multiple Lines':'Multiple_Lines','Internet Service':'Internet_Service','Online Security':'Online_Security','Online Backup':'Online_Backup','Device Protection':'Device_Protection','Tech Support':'Tech_Support','Streaming TV':'Streaming_TV','Streaming Movies':'Streaming_Movies','Paperless Billing':'Paperless_Billing','Payment Method':'Payment_Method','Monthly Charges':'Monthly_Charges','Total Charges':'Total_Charges','Churn Label':'Churn_Label','Churn Value':'Churn_Value','Churn Score':'Churn_Score','Churn Reason':'Churn_Reason'})"
      ]
    },
    {
      "cell_type": "code",
      "execution_count": null,
      "id": "e10c298e",
      "metadata": {
        "id": "e10c298e",
        "outputId": "c73f5014-be4b-402d-f788-b9b2d08f5ed3"
      },
      "outputs": [
        {
          "data": {
            "text/plain": [
              "Index(['CustomerID', 'Count', 'Country', 'State', 'City', 'Zip_Code',\n",
              "       'Lat_Long', 'Latitude', 'Longitude', 'Gender', 'Senior_Citizen',\n",
              "       'Partner', 'Dependents', 'Tenure_Months', 'Phone_Service',\n",
              "       'Multiple_Lines', 'Internet_Service', 'Online_Security',\n",
              "       'Online_Backup', 'Device_Protection', 'Tech_Support', 'Streaming_TV',\n",
              "       'Streaming_Movies', 'Contract', 'Paperless_Billing', 'Payment_Method',\n",
              "       'Monthly_Charges', 'Total_Charges', 'Churn_Label', 'Churn_Value',\n",
              "       'Churn_Score', 'CLTV', 'Churn_Reason'],\n",
              "      dtype='object')"
            ]
          },
          "execution_count": 9,
          "metadata": {},
          "output_type": "execute_result"
        }
      ],
      "source": [
        "telco.columns  # columns after renaming"
      ]
    },
    {
      "cell_type": "markdown",
      "id": "b5f8d02c",
      "metadata": {
        "id": "b5f8d02c"
      },
      "source": [
        "## Converting the data types"
      ]
    },
    {
      "cell_type": "markdown",
      "id": "ac0662dd",
      "metadata": {
        "id": "ac0662dd"
      },
      "source": [
        "Converting the data type of 'Zip Code' to string because it is fixed to particular location, 'Total Charges' to float because it is a Price value"
      ]
    },
    {
      "cell_type": "code",
      "execution_count": null,
      "id": "59b3964f",
      "metadata": {
        "id": "59b3964f"
      },
      "outputs": [],
      "source": [
        "telco['Zip_Code'] = telco['Zip_Code'].astype(object)     # converting to object type\n",
        "telco['Total_Charges'] = pd.to_numeric(telco['Total_Charges'], errors='coerce')   # converting to float type"
      ]
    },
    {
      "cell_type": "code",
      "execution_count": null,
      "id": "583f7d91",
      "metadata": {
        "id": "583f7d91",
        "outputId": "d333449d-307f-410d-dd03-dfbe60ff58d3"
      },
      "outputs": [
        {
          "data": {
            "text/plain": [
              "dtype('O')"
            ]
          },
          "execution_count": 11,
          "metadata": {},
          "output_type": "execute_result"
        }
      ],
      "source": [
        "telco['Zip_Code'].dtype  # after converting the data type"
      ]
    },
    {
      "cell_type": "code",
      "execution_count": null,
      "id": "d5aae0f7",
      "metadata": {
        "id": "d5aae0f7",
        "outputId": "2b2f8a93-dba5-4583-b065-92ff47e9385f"
      },
      "outputs": [
        {
          "data": {
            "text/plain": [
              "dtype('float64')"
            ]
          },
          "execution_count": 12,
          "metadata": {},
          "output_type": "execute_result"
        }
      ],
      "source": [
        "telco['Total_Charges'].dtype  # after converting the data type"
      ]
    },
    {
      "cell_type": "markdown",
      "id": "0e901aa7",
      "metadata": {
        "id": "0e901aa7"
      },
      "source": [
        "## Checking Missing values"
      ]
    },
    {
      "cell_type": "code",
      "execution_count": null,
      "id": "96a3960c",
      "metadata": {
        "id": "96a3960c",
        "outputId": "a41e9550-8522-4211-ec7e-539a6e069d32"
      },
      "outputs": [
        {
          "data": {
            "text/plain": [
              "CustomerID              0\n",
              "Count                   0\n",
              "Country                 0\n",
              "State                   0\n",
              "City                    0\n",
              "Zip_Code                0\n",
              "Lat_Long                0\n",
              "Latitude                0\n",
              "Longitude               0\n",
              "Gender                  0\n",
              "Senior_Citizen          0\n",
              "Partner                 0\n",
              "Dependents              0\n",
              "Tenure_Months           0\n",
              "Phone_Service           0\n",
              "Multiple_Lines          0\n",
              "Internet_Service        0\n",
              "Online_Security         0\n",
              "Online_Backup           0\n",
              "Device_Protection       0\n",
              "Tech_Support            0\n",
              "Streaming_TV            0\n",
              "Streaming_Movies        0\n",
              "Contract                0\n",
              "Paperless_Billing       0\n",
              "Payment_Method          0\n",
              "Monthly_Charges         0\n",
              "Total_Charges          11\n",
              "Churn_Label             0\n",
              "Churn_Value             0\n",
              "Churn_Score             0\n",
              "CLTV                    0\n",
              "Churn_Reason         5174\n",
              "dtype: int64"
            ]
          },
          "execution_count": 13,
          "metadata": {},
          "output_type": "execute_result"
        }
      ],
      "source": [
        "telco.isna().sum()  # checking total missing values in each feature in dataframe"
      ]
    },
    {
      "cell_type": "code",
      "execution_count": null,
      "id": "afe6e4a5",
      "metadata": {
        "id": "afe6e4a5",
        "outputId": "29bdc1e2-b7d5-42ac-8d27-04e80f81b56a"
      },
      "outputs": [
        {
          "data": {
            "text/plain": [
              "<AxesSubplot:>"
            ]
          },
          "execution_count": 14,
          "metadata": {},
          "output_type": "execute_result"
        },
        {
          "data": {
            "image/png": "[encoded data removed]",
            "text/plain": [
              "<Figure size 1728x720 with 3 Axes>"
            ]
          },
          "metadata": {
            "needs_background": "light"
          },
          "output_type": "display_data"
        }
      ],
      "source": [
        "msno.bar(telco)  # bar graph for missing values"
      ]
    },
    {
      "cell_type": "markdown",
      "id": "9bd66296",
      "metadata": {
        "id": "9bd66296"
      },
      "source": [
        "**Observation :**\n",
        "1. There are 11 missing values in Total charges\n",
        "2. There are 5174 missing values in Churn Reason"
      ]
    },
    {
      "cell_type": "code",
      "execution_count": null,
      "id": "a87e0312",
      "metadata": {
        "id": "a87e0312",
        "outputId": "24cca1d1-ae42-4aed-b5fc-b86624bb3132"
      },
      "outputs": [
        {
          "name": "stdout",
          "output_type": "stream",
          "text": [
            "Missing values in Total Charges feature : 11\n",
            "Missing values in Churn Reason feature : 5174\n"
          ]
        }
      ],
      "source": [
        "print(\"Missing values in Total Charges feature :\",telco['Total_Charges'].isna().sum())\n",
        "print(\"Missing values in Churn Reason feature :\",telco['Churn_Reason'].isna().sum())"
      ]
    },
    {
      "cell_type": "code",
      "execution_count": null,
      "id": "0764ba75",
      "metadata": {
        "id": "0764ba75",
        "outputId": "01fcaeba-ac17-44df-f378-a620520877bb"
      },
      "outputs": [
        {
          "name": "stdout",
          "output_type": "stream",
          "text": [
            "Percentage of missing values in Total Charges feature : 0.16 %\n",
            "Percentage of missing values in Churn Reason feature : 73.46 %\n"
          ]
        }
      ],
      "source": [
        "print(\"Percentage of missing values in Total Charges feature :\",np.round(telco['Total_Charges'].isna().mean() * 100,2),\"%\")\n",
        "print(\"Percentage of missing values in Churn Reason feature :\",np.round(telco['Churn_Reason'].isna().mean() * 100,2),\"%\")"
      ]
    },
    {
      "cell_type": "markdown",
      "id": "38dee711",
      "metadata": {
        "id": "38dee711"
      },
      "source": [
        "**Observation :**\n",
        "1. In Total Charges feature there are 0.16% of missing values. So, we can replace the missing values\n",
        "2. In Churn Reason feature there are 73.46% of missing values. In this feature there are lot of missing values so I will drop this feature"
      ]
    },
    {
      "cell_type": "markdown",
      "id": "414a5a03",
      "metadata": {
        "id": "414a5a03"
      },
      "source": [
        "### Dealing with Missing values"
      ]
    },
    {
      "cell_type": "code",
      "execution_count": null,
      "id": "df1712b5",
      "metadata": {
        "id": "df1712b5",
        "outputId": "58d2af41-2970-45eb-9c32-77188c9477a9"
      },
      "outputs": [
        {
          "name": "stdout",
          "output_type": "stream",
          "text": [
            "2283.3004408418697\n"
          ]
        }
      ],
      "source": [
        "m = telco['Total_Charges'].mean()  # Mean value for Total Charges feature\n",
        "print(m)"
      ]
    },
    {
      "cell_type": "markdown",
      "id": "d537f738",
      "metadata": {
        "id": "d537f738"
      },
      "source": [
        "Mean value for Total Charges feature : 2283.3004408418697"
      ]
    },
    {
      "cell_type": "code",
      "execution_count": null,
      "id": "62389ff5",
      "metadata": {
        "id": "62389ff5"
      },
      "outputs": [],
      "source": [
        "telco['Total_Charges'] = telco['Total_Charges'].replace(np.nan , m) "
      ]
    },
    {
      "cell_type": "code",
      "execution_count": null,
      "id": "d2cda377",
      "metadata": {
        "id": "d2cda377",
        "outputId": "50f4cb29-dd72-42ed-a42b-1a799f7d442d"
      },
      "outputs": [
        {
          "data": {
            "text/plain": [
              "0"
            ]
          },
          "execution_count": 19,
          "metadata": {},
          "output_type": "execute_result"
        }
      ],
      "source": [
        "telco['Total_Charges'].isna().sum()"
      ]
    },
    {
      "cell_type": "markdown",
      "id": "2ac9bf81",
      "metadata": {
        "id": "2ac9bf81"
      },
      "source": [
        "Replaced missing values in Total Charges feature by the mean of the feature."
      ]
    },
    {
      "cell_type": "markdown",
      "id": "22ea710c",
      "metadata": {
        "id": "22ea710c"
      },
      "source": [
        "**Droping the feature**"
      ]
    },
    {
      "cell_type": "code",
      "execution_count": null,
      "id": "c496676d",
      "metadata": {
        "id": "c496676d"
      },
      "outputs": [],
      "source": [
        "telco_1 = telco.drop('Churn_Reason',axis=1)"
      ]
    },
    {
      "cell_type": "code",
      "execution_count": null,
      "id": "b7c7f0d0",
      "metadata": {
        "id": "b7c7f0d0",
        "outputId": "5fdefe04-880c-4910-b5c2-b950dc485931"
      },
      "outputs": [
        {
          "data": {
            "text/html": [
              "<div>\n",
              "<style scoped>\n",
              "    .dataframe tbody tr th:only-of-type {\n",
              "        vertical-align: middle;\n",
              "    }\n",
              "\n",
              "    .dataframe tbody tr th {\n",
              "        vertical-align: top;\n",
              "    }\n",
              "\n",
              "    .dataframe thead th {\n",
              "        text-align: right;\n",
              "    }\n",
              "</style>\n",
              "<table border=\"1\" class=\"dataframe\">\n",
              "  <thead>\n",
              "    <tr style=\"text-align: right;\">\n",
              "      <th></th>\n",
              "      <th>CustomerID</th>\n",
              "      <th>Count</th>\n",
              "      <th>Country</th>\n",
              "      <th>State</th>\n",
              "      <th>City</th>\n",
              "      <th>Zip_Code</th>\n",
              "      <th>Lat_Long</th>\n",
              "      <th>Latitude</th>\n",
              "      <th>Longitude</th>\n",
              "      <th>Gender</th>\n",
              "      <th>Senior_Citizen</th>\n",
              "      <th>Partner</th>\n",
              "      <th>Dependents</th>\n",
              "      <th>Tenure_Months</th>\n",
              "      <th>Phone_Service</th>\n",
              "      <th>Multiple_Lines</th>\n",
              "      <th>Internet_Service</th>\n",
              "      <th>Online_Security</th>\n",
              "      <th>Online_Backup</th>\n",
              "      <th>Device_Protection</th>\n",
              "      <th>Tech_Support</th>\n",
              "      <th>Streaming_TV</th>\n",
              "      <th>Streaming_Movies</th>\n",
              "      <th>Contract</th>\n",
              "      <th>Paperless_Billing</th>\n",
              "      <th>Payment_Method</th>\n",
              "      <th>Monthly_Charges</th>\n",
              "      <th>Total_Charges</th>\n",
              "      <th>Churn_Label</th>\n",
              "      <th>Churn_Value</th>\n",
              "      <th>Churn_Score</th>\n",
              "      <th>CLTV</th>\n",
              "    </tr>\n",
              "  </thead>\n",
              "  <tbody>\n",
              "    <tr>\n",
              "      <th>0</th>\n",
              "      <td>3668-QPYBK</td>\n",
              "      <td>1</td>\n",
              "      <td>United States</td>\n",
              "      <td>California</td>\n",
              "      <td>Los Angeles</td>\n",
              "      <td>90003</td>\n",
              "      <td>33.964131, -118.272783</td>\n",
              "      <td>33.964131</td>\n",
              "      <td>-118.272783</td>\n",
              "      <td>Male</td>\n",
              "      <td>No</td>\n",
              "      <td>No</td>\n",
              "      <td>No</td>\n",
              "      <td>2</td>\n",
              "      <td>Yes</td>\n",
              "      <td>No</td>\n",
              "      <td>DSL</td>\n",
              "      <td>Yes</td>\n",
              "      <td>Yes</td>\n",
              "      <td>No</td>\n",
              "      <td>No</td>\n",
              "      <td>No</td>\n",
              "      <td>No</td>\n",
              "      <td>Month-to-month</td>\n",
              "      <td>Yes</td>\n",
              "      <td>Mailed check</td>\n",
              "      <td>53.85</td>\n",
              "      <td>108.15</td>\n",
              "      <td>Yes</td>\n",
              "      <td>1</td>\n",
              "      <td>86</td>\n",
              "      <td>3239</td>\n",
              "    </tr>\n",
              "    <tr>\n",
              "      <th>1</th>\n",
              "      <td>9237-HQITU</td>\n",
              "      <td>1</td>\n",
              "      <td>United States</td>\n",
              "      <td>California</td>\n",
              "      <td>Los Angeles</td>\n",
              "      <td>90005</td>\n",
              "      <td>34.059281, -118.30742</td>\n",
              "      <td>34.059281</td>\n",
              "      <td>-118.307420</td>\n",
              "      <td>Female</td>\n",
              "      <td>No</td>\n",
              "      <td>No</td>\n",
              "      <td>Yes</td>\n",
              "      <td>2</td>\n",
              "      <td>Yes</td>\n",
              "      <td>No</td>\n",
              "      <td>Fiber optic</td>\n",
              "      <td>No</td>\n",
              "      <td>No</td>\n",
              "      <td>No</td>\n",
              "      <td>No</td>\n",
              "      <td>No</td>\n",
              "      <td>No</td>\n",
              "      <td>Month-to-month</td>\n",
              "      <td>Yes</td>\n",
              "      <td>Electronic check</td>\n",
              "      <td>70.70</td>\n",
              "      <td>151.65</td>\n",
              "      <td>Yes</td>\n",
              "      <td>1</td>\n",
              "      <td>67</td>\n",
              "      <td>2701</td>\n",
              "    </tr>\n",
              "    <tr>\n",
              "      <th>2</th>\n",
              "      <td>9305-CDSKC</td>\n",
              "      <td>1</td>\n",
              "      <td>United States</td>\n",
              "      <td>California</td>\n",
              "      <td>Los Angeles</td>\n",
              "      <td>90006</td>\n",
              "      <td>34.048013, -118.293953</td>\n",
              "      <td>34.048013</td>\n",
              "      <td>-118.293953</td>\n",
              "      <td>Female</td>\n",
              "      <td>No</td>\n",
              "      <td>No</td>\n",
              "      <td>Yes</td>\n",
              "      <td>8</td>\n",
              "      <td>Yes</td>\n",
              "      <td>Yes</td>\n",
              "      <td>Fiber optic</td>\n",
              "      <td>No</td>\n",
              "      <td>No</td>\n",
              "      <td>Yes</td>\n",
              "      <td>No</td>\n",
              "      <td>Yes</td>\n",
              "      <td>Yes</td>\n",
              "      <td>Month-to-month</td>\n",
              "      <td>Yes</td>\n",
              "      <td>Electronic check</td>\n",
              "      <td>99.65</td>\n",
              "      <td>820.50</td>\n",
              "      <td>Yes</td>\n",
              "      <td>1</td>\n",
              "      <td>86</td>\n",
              "      <td>5372</td>\n",
              "    </tr>\n",
              "    <tr>\n",
              "      <th>3</th>\n",
              "      <td>7892-POOKP</td>\n",
              "      <td>1</td>\n",
              "      <td>United States</td>\n",
              "      <td>California</td>\n",
              "      <td>Los Angeles</td>\n",
              "      <td>90010</td>\n",
              "      <td>34.062125, -118.315709</td>\n",
              "      <td>34.062125</td>\n",
              "      <td>-118.315709</td>\n",
              "      <td>Female</td>\n",
              "      <td>No</td>\n",
              "      <td>Yes</td>\n",
              "      <td>Yes</td>\n",
              "      <td>28</td>\n",
              "      <td>Yes</td>\n",
              "      <td>Yes</td>\n",
              "      <td>Fiber optic</td>\n",
              "      <td>No</td>\n",
              "      <td>No</td>\n",
              "      <td>Yes</td>\n",
              "      <td>Yes</td>\n",
              "      <td>Yes</td>\n",
              "      <td>Yes</td>\n",
              "      <td>Month-to-month</td>\n",
              "      <td>Yes</td>\n",
              "      <td>Electronic check</td>\n",
              "      <td>104.80</td>\n",
              "      <td>3046.05</td>\n",
              "      <td>Yes</td>\n",
              "      <td>1</td>\n",
              "      <td>84</td>\n",
              "      <td>5003</td>\n",
              "    </tr>\n",
              "    <tr>\n",
              "      <th>4</th>\n",
              "      <td>0280-XJGEX</td>\n",
              "      <td>1</td>\n",
              "      <td>United States</td>\n",
              "      <td>California</td>\n",
              "      <td>Los Angeles</td>\n",
              "      <td>90015</td>\n",
              "      <td>34.039224, -118.266293</td>\n",
              "      <td>34.039224</td>\n",
              "      <td>-118.266293</td>\n",
              "      <td>Male</td>\n",
              "      <td>No</td>\n",
              "      <td>No</td>\n",
              "      <td>Yes</td>\n",
              "      <td>49</td>\n",
              "      <td>Yes</td>\n",
              "      <td>Yes</td>\n",
              "      <td>Fiber optic</td>\n",
              "      <td>No</td>\n",
              "      <td>Yes</td>\n",
              "      <td>Yes</td>\n",
              "      <td>No</td>\n",
              "      <td>Yes</td>\n",
              "      <td>Yes</td>\n",
              "      <td>Month-to-month</td>\n",
              "      <td>Yes</td>\n",
              "      <td>Bank transfer (automatic)</td>\n",
              "      <td>103.70</td>\n",
              "      <td>5036.30</td>\n",
              "      <td>Yes</td>\n",
              "      <td>1</td>\n",
              "      <td>89</td>\n",
              "      <td>5340</td>\n",
              "    </tr>\n",
              "  </tbody>\n",
              "</table>\n",
              "</div>"
            ],
            "text/plain": [
              "   CustomerID  Count        Country       State         City Zip_Code  \\\n",
              "0  3668-QPYBK      1  United States  California  Los Angeles    90003   \n",
              "1  9237-HQITU      1  United States  California  Los Angeles    90005   \n",
              "2  9305-CDSKC      1  United States  California  Los Angeles    90006   \n",
              "3  7892-POOKP      1  United States  California  Los Angeles    90010   \n",
              "4  0280-XJGEX      1  United States  California  Los Angeles    90015   \n",
              "\n",
              "                 Lat_Long   Latitude   Longitude  Gender Senior_Citizen  \\\n",
              "0  33.964131, -118.272783  33.964131 -118.272783    Male             No   \n",
              "1   34.059281, -118.30742  34.059281 -118.307420  Female             No   \n",
              "2  34.048013, -118.293953  34.048013 -118.293953  Female             No   \n",
              "3  34.062125, -118.315709  34.062125 -118.315709  Female             No   \n",
              "4  34.039224, -118.266293  34.039224 -118.266293    Male             No   \n",
              "\n",
              "  Partner Dependents  Tenure_Months Phone_Service Multiple_Lines  \\\n",
              "0      No         No              2           Yes             No   \n",
              "1      No        Yes              2           Yes             No   \n",
              "2      No        Yes              8           Yes            Yes   \n",
              "3     Yes        Yes             28           Yes            Yes   \n",
              "4      No        Yes             49           Yes            Yes   \n",
              "\n",
              "  Internet_Service Online_Security Online_Backup Device_Protection  \\\n",
              "0              DSL             Yes           Yes                No   \n",
              "1      Fiber optic              No            No                No   \n",
              "2      Fiber optic              No            No               Yes   \n",
              "3      Fiber optic              No            No               Yes   \n",
              "4      Fiber optic              No           Yes               Yes   \n",
              "\n",
              "  Tech_Support Streaming_TV Streaming_Movies        Contract  \\\n",
              "0           No           No               No  Month-to-month   \n",
              "1           No           No               No  Month-to-month   \n",
              "2           No          Yes              Yes  Month-to-month   \n",
              "3          Yes          Yes              Yes  Month-to-month   \n",
              "4           No          Yes              Yes  Month-to-month   \n",
              "\n",
              "  Paperless_Billing             Payment_Method  Monthly_Charges  \\\n",
              "0               Yes               Mailed check            53.85   \n",
              "1               Yes           Electronic check            70.70   \n",
              "2               Yes           Electronic check            99.65   \n",
              "3               Yes           Electronic check           104.80   \n",
              "4               Yes  Bank transfer (automatic)           103.70   \n",
              "\n",
              "   Total_Charges Churn_Label  Churn_Value  Churn_Score  CLTV  \n",
              "0         108.15         Yes            1           86  3239  \n",
              "1         151.65         Yes            1           67  2701  \n",
              "2         820.50         Yes            1           86  5372  \n",
              "3        3046.05         Yes            1           84  5003  \n",
              "4        5036.30         Yes            1           89  5340  "
            ]
          },
          "execution_count": 21,
          "metadata": {},
          "output_type": "execute_result"
        }
      ],
      "source": [
        "telco_1.head()  # after droping"
      ]
    },
    {
      "cell_type": "markdown",
      "id": "beca6730",
      "metadata": {
        "id": "beca6730"
      },
      "source": [
        "## 2. Please apply appropriate statistical measures using python based on data types"
      ]
    },
    {
      "cell_type": "markdown",
      "id": "b3ce6e27",
      "metadata": {
        "id": "b3ce6e27"
      },
      "source": [
        "### Statistical Measures for Numerical feautres"
      ]
    },
    {
      "cell_type": "code",
      "execution_count": null,
      "id": "ecb45ea9",
      "metadata": {
        "id": "ecb45ea9",
        "outputId": "271d630f-c809-46a8-f1a8-5fb80f36dbfb"
      },
      "outputs": [
        {
          "data": {
            "text/plain": [
              "['Count',\n",
              " 'Latitude',\n",
              " 'Longitude',\n",
              " 'Tenure_Months',\n",
              " 'Monthly_Charges',\n",
              " 'Total_Charges',\n",
              " 'Churn_Value',\n",
              " 'Churn_Score',\n",
              " 'CLTV']"
            ]
          },
          "execution_count": 22,
          "metadata": {},
          "output_type": "execute_result"
        }
      ],
      "source": [
        "# Fetching all numerical features\n",
        "numerical_features = [feature for feature in telco_1.columns if telco_1[feature].dtype != 'O']\n",
        "numerical_features"
      ]
    },
    {
      "cell_type": "code",
      "execution_count": null,
      "id": "aa077da1",
      "metadata": {
        "id": "aa077da1",
        "outputId": "8710903c-690a-43ea-b923-3b5b53841648"
      },
      "outputs": [
        {
          "data": {
            "text/html": [
              "<div>\n",
              "<style scoped>\n",
              "    .dataframe tbody tr th:only-of-type {\n",
              "        vertical-align: middle;\n",
              "    }\n",
              "\n",
              "    .dataframe tbody tr th {\n",
              "        vertical-align: top;\n",
              "    }\n",
              "\n",
              "    .dataframe thead th {\n",
              "        text-align: right;\n",
              "    }\n",
              "</style>\n",
              "<table border=\"1\" class=\"dataframe\">\n",
              "  <thead>\n",
              "    <tr style=\"text-align: right;\">\n",
              "      <th></th>\n",
              "      <th>Count</th>\n",
              "      <th>Latitude</th>\n",
              "      <th>Longitude</th>\n",
              "      <th>Tenure_Months</th>\n",
              "      <th>Monthly_Charges</th>\n",
              "      <th>Total_Charges</th>\n",
              "      <th>Churn_Value</th>\n",
              "      <th>Churn_Score</th>\n",
              "      <th>CLTV</th>\n",
              "    </tr>\n",
              "  </thead>\n",
              "  <tbody>\n",
              "    <tr>\n",
              "      <th>count</th>\n",
              "      <td>7043.0</td>\n",
              "      <td>7043.000000</td>\n",
              "      <td>7043.000000</td>\n",
              "      <td>7043.000000</td>\n",
              "      <td>7043.000000</td>\n",
              "      <td>7043.000000</td>\n",
              "      <td>7043.000000</td>\n",
              "      <td>7043.000000</td>\n",
              "      <td>7043.000000</td>\n",
              "    </tr>\n",
              "    <tr>\n",
              "      <th>mean</th>\n",
              "      <td>1.0</td>\n",
              "      <td>36.282441</td>\n",
              "      <td>-119.798880</td>\n",
              "      <td>32.371149</td>\n",
              "      <td>64.761692</td>\n",
              "      <td>2283.300441</td>\n",
              "      <td>0.265370</td>\n",
              "      <td>58.699418</td>\n",
              "      <td>4400.295755</td>\n",
              "    </tr>\n",
              "    <tr>\n",
              "      <th>std</th>\n",
              "      <td>0.0</td>\n",
              "      <td>2.455723</td>\n",
              "      <td>2.157889</td>\n",
              "      <td>24.559481</td>\n",
              "      <td>30.090047</td>\n",
              "      <td>2265.000258</td>\n",
              "      <td>0.441561</td>\n",
              "      <td>21.525131</td>\n",
              "      <td>1183.057152</td>\n",
              "    </tr>\n",
              "    <tr>\n",
              "      <th>min</th>\n",
              "      <td>1.0</td>\n",
              "      <td>32.555828</td>\n",
              "      <td>-124.301372</td>\n",
              "      <td>0.000000</td>\n",
              "      <td>18.250000</td>\n",
              "      <td>18.800000</td>\n",
              "      <td>0.000000</td>\n",
              "      <td>5.000000</td>\n",
              "      <td>2003.000000</td>\n",
              "    </tr>\n",
              "    <tr>\n",
              "      <th>25%</th>\n",
              "      <td>1.0</td>\n",
              "      <td>34.030915</td>\n",
              "      <td>-121.815412</td>\n",
              "      <td>9.000000</td>\n",
              "      <td>35.500000</td>\n",
              "      <td>402.225000</td>\n",
              "      <td>0.000000</td>\n",
              "      <td>40.000000</td>\n",
              "      <td>3469.000000</td>\n",
              "    </tr>\n",
              "    <tr>\n",
              "      <th>50%</th>\n",
              "      <td>1.0</td>\n",
              "      <td>36.391777</td>\n",
              "      <td>-119.730885</td>\n",
              "      <td>29.000000</td>\n",
              "      <td>70.350000</td>\n",
              "      <td>1400.550000</td>\n",
              "      <td>0.000000</td>\n",
              "      <td>61.000000</td>\n",
              "      <td>4527.000000</td>\n",
              "    </tr>\n",
              "    <tr>\n",
              "      <th>75%</th>\n",
              "      <td>1.0</td>\n",
              "      <td>38.224869</td>\n",
              "      <td>-118.043237</td>\n",
              "      <td>55.000000</td>\n",
              "      <td>89.850000</td>\n",
              "      <td>3786.600000</td>\n",
              "      <td>1.000000</td>\n",
              "      <td>75.000000</td>\n",
              "      <td>5380.500000</td>\n",
              "    </tr>\n",
              "    <tr>\n",
              "      <th>max</th>\n",
              "      <td>1.0</td>\n",
              "      <td>41.962127</td>\n",
              "      <td>-114.192901</td>\n",
              "      <td>72.000000</td>\n",
              "      <td>118.750000</td>\n",
              "      <td>8684.800000</td>\n",
              "      <td>1.000000</td>\n",
              "      <td>100.000000</td>\n",
              "      <td>6500.000000</td>\n",
              "    </tr>\n",
              "  </tbody>\n",
              "</table>\n",
              "</div>"
            ],
            "text/plain": [
              "        Count     Latitude    Longitude  Tenure_Months  Monthly_Charges  \\\n",
              "count  7043.0  7043.000000  7043.000000    7043.000000      7043.000000   \n",
              "mean      1.0    36.282441  -119.798880      32.371149        64.761692   \n",
              "std       0.0     2.455723     2.157889      24.559481        30.090047   \n",
              "min       1.0    32.555828  -124.301372       0.000000        18.250000   \n",
              "25%       1.0    34.030915  -121.815412       9.000000        35.500000   \n",
              "50%       1.0    36.391777  -119.730885      29.000000        70.350000   \n",
              "75%       1.0    38.224869  -118.043237      55.000000        89.850000   \n",
              "max       1.0    41.962127  -114.192901      72.000000       118.750000   \n",
              "\n",
              "       Total_Charges  Churn_Value  Churn_Score         CLTV  \n",
              "count    7043.000000  7043.000000  7043.000000  7043.000000  \n",
              "mean     2283.300441     0.265370    58.699418  4400.295755  \n",
              "std      2265.000258     0.441561    21.525131  1183.057152  \n",
              "min        18.800000     0.000000     5.000000  2003.000000  \n",
              "25%       402.225000     0.000000    40.000000  3469.000000  \n",
              "50%      1400.550000     0.000000    61.000000  4527.000000  \n",
              "75%      3786.600000     1.000000    75.000000  5380.500000  \n",
              "max      8684.800000     1.000000   100.000000  6500.000000  "
            ]
          },
          "execution_count": 23,
          "metadata": {},
          "output_type": "execute_result"
        }
      ],
      "source": [
        "telco_1.describe()  #Statistical Measures for Numerical feautres¶"
      ]
    },
    {
      "cell_type": "code",
      "execution_count": null,
      "id": "ed6a5b56",
      "metadata": {
        "id": "ed6a5b56",
        "outputId": "b6f8aaab-5da8-46cb-acb7-4830a7cacd33"
      },
      "outputs": [
        {
          "name": "stdout",
          "output_type": "stream",
          "text": [
            "Variance of Count  :  0.0\n",
            "Variance of Latitude  :  6.02971718626933\n",
            "Variance of Longitude  :  4.655824196594216\n",
            "Variance of Tenure_Months  :  603.0824673303006\n",
            "Variance of Monthly_Charges  :  905.2823796146353\n",
            "Variance of Total_Charges  :  5129497.75294528\n",
            "Variance of Churn_Value  :  0.19494870246864102\n",
            "Variance of Churn_Score  :  463.2654646618233\n",
            "Variance of CLTV  :  1399425.499210997\n"
          ]
        }
      ],
      "source": [
        "# Finding Variance of each numerical feature\n",
        "for feature in numerical_features:\n",
        "    print(\"Variance of\",feature,\" : \",np.var(telco_1[feature]))"
      ]
    },
    {
      "cell_type": "code",
      "execution_count": null,
      "id": "796252e9",
      "metadata": {
        "id": "796252e9",
        "outputId": "089cb8a0-9ffc-464a-e1e8-2b9594ab7bfe"
      },
      "outputs": [
        {
          "name": "stdout",
          "output_type": "stream",
          "text": [
            "Standard Deviation of Count  :  0.0\n",
            "Standard Deviation of Latitude  :  2.4555482455592945\n",
            "Standard Deviation of Longitude  :  2.1577358959321726\n",
            "Standard Deviation of Tenure_Months  :  24.5577374228633\n",
            "Standard Deviation of Monthly_Charges  :  30.087910854936993\n",
            "Standard Deviation of Total_Charges  :  2264.8394541214793\n",
            "Standard Deviation of Churn_Value  :  0.44152995647933224\n",
            "Standard Deviation of Churn_Score  :  21.523602501947096\n",
            "Standard Deviation of CLTV  :  1182.9731608159996\n"
          ]
        }
      ],
      "source": [
        "# Finding Standard Deviation of each numerical feature\n",
        "for feature in numerical_features:\n",
        "    print(\"Standard Deviation of\",feature,\" : \",np.std(telco_1[feature]))"
      ]
    },
    {
      "cell_type": "markdown",
      "id": "ce222453",
      "metadata": {
        "id": "ce222453"
      },
      "source": [
        "### Statistical Measures for Categorical feautres"
      ]
    },
    {
      "cell_type": "code",
      "execution_count": null,
      "id": "7474f54b",
      "metadata": {
        "scrolled": true,
        "id": "7474f54b",
        "outputId": "e1ba7cb9-fc1d-4522-981c-655a6d15fbcd"
      },
      "outputs": [
        {
          "data": {
            "text/html": [
              "<div>\n",
              "<style scoped>\n",
              "    .dataframe tbody tr th:only-of-type {\n",
              "        vertical-align: middle;\n",
              "    }\n",
              "\n",
              "    .dataframe tbody tr th {\n",
              "        vertical-align: top;\n",
              "    }\n",
              "\n",
              "    .dataframe thead th {\n",
              "        text-align: right;\n",
              "    }\n",
              "</style>\n",
              "<table border=\"1\" class=\"dataframe\">\n",
              "  <thead>\n",
              "    <tr style=\"text-align: right;\">\n",
              "      <th></th>\n",
              "      <th>CustomerID</th>\n",
              "      <th>Country</th>\n",
              "      <th>State</th>\n",
              "      <th>City</th>\n",
              "      <th>Zip_Code</th>\n",
              "      <th>Lat_Long</th>\n",
              "      <th>Gender</th>\n",
              "      <th>Senior_Citizen</th>\n",
              "      <th>Partner</th>\n",
              "      <th>Dependents</th>\n",
              "      <th>Phone_Service</th>\n",
              "      <th>Multiple_Lines</th>\n",
              "      <th>Internet_Service</th>\n",
              "      <th>Online_Security</th>\n",
              "      <th>Online_Backup</th>\n",
              "      <th>Device_Protection</th>\n",
              "      <th>Tech_Support</th>\n",
              "      <th>Streaming_TV</th>\n",
              "      <th>Streaming_Movies</th>\n",
              "      <th>Contract</th>\n",
              "      <th>Paperless_Billing</th>\n",
              "      <th>Payment_Method</th>\n",
              "      <th>Churn_Label</th>\n",
              "    </tr>\n",
              "  </thead>\n",
              "  <tbody>\n",
              "    <tr>\n",
              "      <th>count</th>\n",
              "      <td>7043</td>\n",
              "      <td>7043</td>\n",
              "      <td>7043</td>\n",
              "      <td>7043</td>\n",
              "      <td>7043</td>\n",
              "      <td>7043</td>\n",
              "      <td>7043</td>\n",
              "      <td>7043</td>\n",
              "      <td>7043</td>\n",
              "      <td>7043</td>\n",
              "      <td>7043</td>\n",
              "      <td>7043</td>\n",
              "      <td>7043</td>\n",
              "      <td>7043</td>\n",
              "      <td>7043</td>\n",
              "      <td>7043</td>\n",
              "      <td>7043</td>\n",
              "      <td>7043</td>\n",
              "      <td>7043</td>\n",
              "      <td>7043</td>\n",
              "      <td>7043</td>\n",
              "      <td>7043</td>\n",
              "      <td>7043</td>\n",
              "    </tr>\n",
              "    <tr>\n",
              "      <th>unique</th>\n",
              "      <td>7043</td>\n",
              "      <td>1</td>\n",
              "      <td>1</td>\n",
              "      <td>1129</td>\n",
              "      <td>1652</td>\n",
              "      <td>1652</td>\n",
              "      <td>2</td>\n",
              "      <td>2</td>\n",
              "      <td>2</td>\n",
              "      <td>2</td>\n",
              "      <td>2</td>\n",
              "      <td>3</td>\n",
              "      <td>3</td>\n",
              "      <td>3</td>\n",
              "      <td>3</td>\n",
              "      <td>3</td>\n",
              "      <td>3</td>\n",
              "      <td>3</td>\n",
              "      <td>3</td>\n",
              "      <td>3</td>\n",
              "      <td>2</td>\n",
              "      <td>4</td>\n",
              "      <td>2</td>\n",
              "    </tr>\n",
              "    <tr>\n",
              "      <th>top</th>\n",
              "      <td>3668-QPYBK</td>\n",
              "      <td>United States</td>\n",
              "      <td>California</td>\n",
              "      <td>Los Angeles</td>\n",
              "      <td>90003</td>\n",
              "      <td>33.964131, -118.272783</td>\n",
              "      <td>Male</td>\n",
              "      <td>No</td>\n",
              "      <td>No</td>\n",
              "      <td>No</td>\n",
              "      <td>Yes</td>\n",
              "      <td>No</td>\n",
              "      <td>Fiber optic</td>\n",
              "      <td>No</td>\n",
              "      <td>No</td>\n",
              "      <td>No</td>\n",
              "      <td>No</td>\n",
              "      <td>No</td>\n",
              "      <td>No</td>\n",
              "      <td>Month-to-month</td>\n",
              "      <td>Yes</td>\n",
              "      <td>Electronic check</td>\n",
              "      <td>No</td>\n",
              "    </tr>\n",
              "    <tr>\n",
              "      <th>freq</th>\n",
              "      <td>1</td>\n",
              "      <td>7043</td>\n",
              "      <td>7043</td>\n",
              "      <td>305</td>\n",
              "      <td>5</td>\n",
              "      <td>5</td>\n",
              "      <td>3555</td>\n",
              "      <td>5901</td>\n",
              "      <td>3641</td>\n",
              "      <td>5416</td>\n",
              "      <td>6361</td>\n",
              "      <td>3390</td>\n",
              "      <td>3096</td>\n",
              "      <td>3498</td>\n",
              "      <td>3088</td>\n",
              "      <td>3095</td>\n",
              "      <td>3473</td>\n",
              "      <td>2810</td>\n",
              "      <td>2785</td>\n",
              "      <td>3875</td>\n",
              "      <td>4171</td>\n",
              "      <td>2365</td>\n",
              "      <td>5174</td>\n",
              "    </tr>\n",
              "  </tbody>\n",
              "</table>\n",
              "</div>"
            ],
            "text/plain": [
              "        CustomerID        Country       State         City  Zip_Code  \\\n",
              "count         7043           7043        7043         7043      7043   \n",
              "unique        7043              1           1         1129      1652   \n",
              "top     3668-QPYBK  United States  California  Los Angeles     90003   \n",
              "freq             1           7043        7043          305         5   \n",
              "\n",
              "                      Lat_Long Gender Senior_Citizen Partner Dependents  \\\n",
              "count                     7043   7043           7043    7043       7043   \n",
              "unique                    1652      2              2       2          2   \n",
              "top     33.964131, -118.272783   Male             No      No         No   \n",
              "freq                         5   3555           5901    3641       5416   \n",
              "\n",
              "       Phone_Service Multiple_Lines Internet_Service Online_Security  \\\n",
              "count           7043           7043             7043            7043   \n",
              "unique             2              3                3               3   \n",
              "top              Yes             No      Fiber optic              No   \n",
              "freq            6361           3390             3096            3498   \n",
              "\n",
              "       Online_Backup Device_Protection Tech_Support Streaming_TV  \\\n",
              "count           7043              7043         7043         7043   \n",
              "unique             3                 3            3            3   \n",
              "top               No                No           No           No   \n",
              "freq            3088              3095         3473         2810   \n",
              "\n",
              "       Streaming_Movies        Contract Paperless_Billing    Payment_Method  \\\n",
              "count              7043            7043              7043              7043   \n",
              "unique                3               3                 2                 4   \n",
              "top                  No  Month-to-month               Yes  Electronic check   \n",
              "freq               2785            3875              4171              2365   \n",
              "\n",
              "       Churn_Label  \n",
              "count         7043  \n",
              "unique           2  \n",
              "top             No  \n",
              "freq          5174  "
            ]
          },
          "execution_count": 26,
          "metadata": {},
          "output_type": "execute_result"
        }
      ],
      "source": [
        "telco_1.describe(exclude=['int64','float64'])  # Statistical Measures for Categorical feautres"
      ]
    },
    {
      "cell_type": "markdown",
      "id": "c9f3652b",
      "metadata": {
        "id": "c9f3652b"
      },
      "source": [
        "### 3. What is the percentage of females and senior citizens in this data set? Please create appropriate plots and explain the plots."
      ]
    },
    {
      "cell_type": "code",
      "execution_count": null,
      "id": "0a0d9bde",
      "metadata": {
        "id": "0a0d9bde",
        "outputId": "af7ab3c9-d87c-42b6-a088-8b5f839cc12f"
      },
      "outputs": [
        {
          "data": {
            "text/html": [
              "<div>\n",
              "<style scoped>\n",
              "    .dataframe tbody tr th:only-of-type {\n",
              "        vertical-align: middle;\n",
              "    }\n",
              "\n",
              "    .dataframe tbody tr th {\n",
              "        vertical-align: top;\n",
              "    }\n",
              "\n",
              "    .dataframe thead th {\n",
              "        text-align: right;\n",
              "    }\n",
              "</style>\n",
              "<table border=\"1\" class=\"dataframe\">\n",
              "  <thead>\n",
              "    <tr style=\"text-align: right;\">\n",
              "      <th></th>\n",
              "      <th>CustomerID</th>\n",
              "      <th>Count</th>\n",
              "      <th>Country</th>\n",
              "      <th>State</th>\n",
              "      <th>City</th>\n",
              "      <th>Zip_Code</th>\n",
              "      <th>Lat_Long</th>\n",
              "      <th>Latitude</th>\n",
              "      <th>Longitude</th>\n",
              "      <th>Gender</th>\n",
              "      <th>Senior_Citizen</th>\n",
              "      <th>Partner</th>\n",
              "      <th>Dependents</th>\n",
              "      <th>Tenure_Months</th>\n",
              "      <th>Phone_Service</th>\n",
              "      <th>Multiple_Lines</th>\n",
              "      <th>Internet_Service</th>\n",
              "      <th>Online_Security</th>\n",
              "      <th>Online_Backup</th>\n",
              "      <th>Device_Protection</th>\n",
              "      <th>Tech_Support</th>\n",
              "      <th>Streaming_TV</th>\n",
              "      <th>Streaming_Movies</th>\n",
              "      <th>Contract</th>\n",
              "      <th>Paperless_Billing</th>\n",
              "      <th>Payment_Method</th>\n",
              "      <th>Monthly_Charges</th>\n",
              "      <th>Total_Charges</th>\n",
              "      <th>Churn_Label</th>\n",
              "      <th>Churn_Value</th>\n",
              "      <th>Churn_Score</th>\n",
              "      <th>CLTV</th>\n",
              "    </tr>\n",
              "  </thead>\n",
              "  <tbody>\n",
              "    <tr>\n",
              "      <th>0</th>\n",
              "      <td>3668-QPYBK</td>\n",
              "      <td>1</td>\n",
              "      <td>United States</td>\n",
              "      <td>California</td>\n",
              "      <td>Los Angeles</td>\n",
              "      <td>90003</td>\n",
              "      <td>33.964131, -118.272783</td>\n",
              "      <td>33.964131</td>\n",
              "      <td>-118.272783</td>\n",
              "      <td>Male</td>\n",
              "      <td>No</td>\n",
              "      <td>No</td>\n",
              "      <td>No</td>\n",
              "      <td>2</td>\n",
              "      <td>Yes</td>\n",
              "      <td>No</td>\n",
              "      <td>DSL</td>\n",
              "      <td>Yes</td>\n",
              "      <td>Yes</td>\n",
              "      <td>No</td>\n",
              "      <td>No</td>\n",
              "      <td>No</td>\n",
              "      <td>No</td>\n",
              "      <td>Month-to-month</td>\n",
              "      <td>Yes</td>\n",
              "      <td>Mailed check</td>\n",
              "      <td>53.85</td>\n",
              "      <td>108.15</td>\n",
              "      <td>Yes</td>\n",
              "      <td>1</td>\n",
              "      <td>86</td>\n",
              "      <td>3239</td>\n",
              "    </tr>\n",
              "    <tr>\n",
              "      <th>1</th>\n",
              "      <td>9237-HQITU</td>\n",
              "      <td>1</td>\n",
              "      <td>United States</td>\n",
              "      <td>California</td>\n",
              "      <td>Los Angeles</td>\n",
              "      <td>90005</td>\n",
              "      <td>34.059281, -118.30742</td>\n",
              "      <td>34.059281</td>\n",
              "      <td>-118.307420</td>\n",
              "      <td>Female</td>\n",
              "      <td>No</td>\n",
              "      <td>No</td>\n",
              "      <td>Yes</td>\n",
              "      <td>2</td>\n",
              "      <td>Yes</td>\n",
              "      <td>No</td>\n",
              "      <td>Fiber optic</td>\n",
              "      <td>No</td>\n",
              "      <td>No</td>\n",
              "      <td>No</td>\n",
              "      <td>No</td>\n",
              "      <td>No</td>\n",
              "      <td>No</td>\n",
              "      <td>Month-to-month</td>\n",
              "      <td>Yes</td>\n",
              "      <td>Electronic check</td>\n",
              "      <td>70.70</td>\n",
              "      <td>151.65</td>\n",
              "      <td>Yes</td>\n",
              "      <td>1</td>\n",
              "      <td>67</td>\n",
              "      <td>2701</td>\n",
              "    </tr>\n",
              "    <tr>\n",
              "      <th>2</th>\n",
              "      <td>9305-CDSKC</td>\n",
              "      <td>1</td>\n",
              "      <td>United States</td>\n",
              "      <td>California</td>\n",
              "      <td>Los Angeles</td>\n",
              "      <td>90006</td>\n",
              "      <td>34.048013, -118.293953</td>\n",
              "      <td>34.048013</td>\n",
              "      <td>-118.293953</td>\n",
              "      <td>Female</td>\n",
              "      <td>No</td>\n",
              "      <td>No</td>\n",
              "      <td>Yes</td>\n",
              "      <td>8</td>\n",
              "      <td>Yes</td>\n",
              "      <td>Yes</td>\n",
              "      <td>Fiber optic</td>\n",
              "      <td>No</td>\n",
              "      <td>No</td>\n",
              "      <td>Yes</td>\n",
              "      <td>No</td>\n",
              "      <td>Yes</td>\n",
              "      <td>Yes</td>\n",
              "      <td>Month-to-month</td>\n",
              "      <td>Yes</td>\n",
              "      <td>Electronic check</td>\n",
              "      <td>99.65</td>\n",
              "      <td>820.50</td>\n",
              "      <td>Yes</td>\n",
              "      <td>1</td>\n",
              "      <td>86</td>\n",
              "      <td>5372</td>\n",
              "    </tr>\n",
              "    <tr>\n",
              "      <th>3</th>\n",
              "      <td>7892-POOKP</td>\n",
              "      <td>1</td>\n",
              "      <td>United States</td>\n",
              "      <td>California</td>\n",
              "      <td>Los Angeles</td>\n",
              "      <td>90010</td>\n",
              "      <td>34.062125, -118.315709</td>\n",
              "      <td>34.062125</td>\n",
              "      <td>-118.315709</td>\n",
              "      <td>Female</td>\n",
              "      <td>No</td>\n",
              "      <td>Yes</td>\n",
              "      <td>Yes</td>\n",
              "      <td>28</td>\n",
              "      <td>Yes</td>\n",
              "      <td>Yes</td>\n",
              "      <td>Fiber optic</td>\n",
              "      <td>No</td>\n",
              "      <td>No</td>\n",
              "      <td>Yes</td>\n",
              "      <td>Yes</td>\n",
              "      <td>Yes</td>\n",
              "      <td>Yes</td>\n",
              "      <td>Month-to-month</td>\n",
              "      <td>Yes</td>\n",
              "      <td>Electronic check</td>\n",
              "      <td>104.80</td>\n",
              "      <td>3046.05</td>\n",
              "      <td>Yes</td>\n",
              "      <td>1</td>\n",
              "      <td>84</td>\n",
              "      <td>5003</td>\n",
              "    </tr>\n",
              "    <tr>\n",
              "      <th>4</th>\n",
              "      <td>0280-XJGEX</td>\n",
              "      <td>1</td>\n",
              "      <td>United States</td>\n",
              "      <td>California</td>\n",
              "      <td>Los Angeles</td>\n",
              "      <td>90015</td>\n",
              "      <td>34.039224, -118.266293</td>\n",
              "      <td>34.039224</td>\n",
              "      <td>-118.266293</td>\n",
              "      <td>Male</td>\n",
              "      <td>No</td>\n",
              "      <td>No</td>\n",
              "      <td>Yes</td>\n",
              "      <td>49</td>\n",
              "      <td>Yes</td>\n",
              "      <td>Yes</td>\n",
              "      <td>Fiber optic</td>\n",
              "      <td>No</td>\n",
              "      <td>Yes</td>\n",
              "      <td>Yes</td>\n",
              "      <td>No</td>\n",
              "      <td>Yes</td>\n",
              "      <td>Yes</td>\n",
              "      <td>Month-to-month</td>\n",
              "      <td>Yes</td>\n",
              "      <td>Bank transfer (automatic)</td>\n",
              "      <td>103.70</td>\n",
              "      <td>5036.30</td>\n",
              "      <td>Yes</td>\n",
              "      <td>1</td>\n",
              "      <td>89</td>\n",
              "      <td>5340</td>\n",
              "    </tr>\n",
              "  </tbody>\n",
              "</table>\n",
              "</div>"
            ],
            "text/plain": [
              "   CustomerID  Count        Country       State         City Zip_Code  \\\n",
              "0  3668-QPYBK      1  United States  California  Los Angeles    90003   \n",
              "1  9237-HQITU      1  United States  California  Los Angeles    90005   \n",
              "2  9305-CDSKC      1  United States  California  Los Angeles    90006   \n",
              "3  7892-POOKP      1  United States  California  Los Angeles    90010   \n",
              "4  0280-XJGEX      1  United States  California  Los Angeles    90015   \n",
              "\n",
              "                 Lat_Long   Latitude   Longitude  Gender Senior_Citizen  \\\n",
              "0  33.964131, -118.272783  33.964131 -118.272783    Male             No   \n",
              "1   34.059281, -118.30742  34.059281 -118.307420  Female             No   \n",
              "2  34.048013, -118.293953  34.048013 -118.293953  Female             No   \n",
              "3  34.062125, -118.315709  34.062125 -118.315709  Female             No   \n",
              "4  34.039224, -118.266293  34.039224 -118.266293    Male             No   \n",
              "\n",
              "  Partner Dependents  Tenure_Months Phone_Service Multiple_Lines  \\\n",
              "0      No         No              2           Yes             No   \n",
              "1      No        Yes              2           Yes             No   \n",
              "2      No        Yes              8           Yes            Yes   \n",
              "3     Yes        Yes             28           Yes            Yes   \n",
              "4      No        Yes             49           Yes            Yes   \n",
              "\n",
              "  Internet_Service Online_Security Online_Backup Device_Protection  \\\n",
              "0              DSL             Yes           Yes                No   \n",
              "1      Fiber optic              No            No                No   \n",
              "2      Fiber optic              No            No               Yes   \n",
              "3      Fiber optic              No            No               Yes   \n",
              "4      Fiber optic              No           Yes               Yes   \n",
              "\n",
              "  Tech_Support Streaming_TV Streaming_Movies        Contract  \\\n",
              "0           No           No               No  Month-to-month   \n",
              "1           No           No               No  Month-to-month   \n",
              "2           No          Yes              Yes  Month-to-month   \n",
              "3          Yes          Yes              Yes  Month-to-month   \n",
              "4           No          Yes              Yes  Month-to-month   \n",
              "\n",
              "  Paperless_Billing             Payment_Method  Monthly_Charges  \\\n",
              "0               Yes               Mailed check            53.85   \n",
              "1               Yes           Electronic check            70.70   \n",
              "2               Yes           Electronic check            99.65   \n",
              "3               Yes           Electronic check           104.80   \n",
              "4               Yes  Bank transfer (automatic)           103.70   \n",
              "\n",
              "   Total_Charges Churn_Label  Churn_Value  Churn_Score  CLTV  \n",
              "0         108.15         Yes            1           86  3239  \n",
              "1         151.65         Yes            1           67  2701  \n",
              "2         820.50         Yes            1           86  5372  \n",
              "3        3046.05         Yes            1           84  5003  \n",
              "4        5036.30         Yes            1           89  5340  "
            ]
          },
          "execution_count": 27,
          "metadata": {},
          "output_type": "execute_result"
        }
      ],
      "source": [
        "telco_1.head()"
      ]
    },
    {
      "cell_type": "code",
      "execution_count": null,
      "id": "c072ab58",
      "metadata": {
        "id": "c072ab58",
        "outputId": "43abe6f3-4edb-47fc-9594-def24e7047f6"
      },
      "outputs": [
        {
          "data": {
            "text/plain": [
              "Male      3555\n",
              "Female    3488\n",
              "Name: Gender, dtype: int64"
            ]
          },
          "execution_count": 28,
          "metadata": {},
          "output_type": "execute_result"
        }
      ],
      "source": [
        "telco_1['Gender'].value_counts()   # Count of each gender in the data frame"
      ]
    },
    {
      "cell_type": "markdown",
      "id": "6315adb3",
      "metadata": {
        "id": "6315adb3"
      },
      "source": [
        "There are 3555 Males and 3488 females in the data set."
      ]
    },
    {
      "cell_type": "code",
      "execution_count": null,
      "id": "4965eb6a",
      "metadata": {
        "id": "4965eb6a",
        "outputId": "69b1ced5-d3f3-41d7-b34c-5c9030d952a3"
      },
      "outputs": [
        {
          "data": {
            "image/png": "[encoded data removed]",
            "text/plain": [
              "<Figure size 504x504 with 1 Axes>"
            ]
          },
          "metadata": {},
          "output_type": "display_data"
        }
      ],
      "source": [
        "plt.figure(figsize = (7,7))    # setting the figure size\n",
        "sns.set_style('darkgrid') # setting the figure style\n",
        "\n",
        "# Pie plot \n",
        "plt.pie(telco_1['Gender'].value_counts().values,labels=telco_1['Gender'].value_counts().index,autopct = '%1.2f%%',shadow=True,explode=[0.04,0])\n",
        "plt.title(\"Precentage of Males and Females\")\n",
        "plt.show()"
      ]
    },
    {
      "cell_type": "markdown",
      "id": "35e46992",
      "metadata": {
        "id": "35e46992"
      },
      "source": [
        "**Observation :**\n",
        "1. There are 50.48 % of Males in the data set.\n",
        "2. There are 49.52 % of Females in the data set."
      ]
    },
    {
      "cell_type": "code",
      "execution_count": null,
      "id": "27246c94",
      "metadata": {
        "id": "27246c94",
        "outputId": "d35a48c8-b5ea-4302-b45b-0ac86637eb09"
      },
      "outputs": [
        {
          "data": {
            "text/plain": [
              "No     5901\n",
              "Yes    1142\n",
              "Name: Senior_Citizen, dtype: int64"
            ]
          },
          "execution_count": 30,
          "metadata": {},
          "output_type": "execute_result"
        }
      ],
      "source": [
        "telco_1['Senior_Citizen'].value_counts()  # Count of Senior Citizen in the data frame"
      ]
    },
    {
      "cell_type": "markdown",
      "id": "bfa8ecf7",
      "metadata": {
        "id": "bfa8ecf7"
      },
      "source": [
        "There are total of 1142 number of Senior Citizens in the data set"
      ]
    },
    {
      "cell_type": "code",
      "execution_count": null,
      "id": "b1d76172",
      "metadata": {
        "id": "b1d76172",
        "outputId": "d3638e31-f1b2-4dbe-f59c-48716ac80956"
      },
      "outputs": [
        {
          "data": {
            "image/png": "[encoded data removed]",
            "text/plain": [
              "<Figure size 720x576 with 1 Axes>"
            ]
          },
          "metadata": {},
          "output_type": "display_data"
        }
      ],
      "source": [
        "sns.set(rc={'figure.figsize':(10,8)})\n",
        "# Pie plot \n",
        "plt.pie(telco_1['Senior_Citizen'].value_counts().values,labels=telco_1['Senior_Citizen'].value_counts().index,autopct = '%1.2f%%',shadow=True,explode=[0.1,0])\n",
        "plt.title(\"Percentage of Senior Citizens in the data set\")\n",
        "plt.show()"
      ]
    },
    {
      "cell_type": "markdown",
      "id": "5da5cfad",
      "metadata": {
        "id": "5da5cfad"
      },
      "source": [
        "**Observation :**\n",
        "* There are 16.21 % of Senior Citizens in the data set."
      ]
    },
    {
      "cell_type": "markdown",
      "id": "b27c508c",
      "metadata": {
        "id": "b27c508c"
      },
      "source": [
        "### 4.  Distribution of the tenure month column."
      ]
    },
    {
      "cell_type": "code",
      "execution_count": null,
      "id": "007db72a",
      "metadata": {
        "id": "007db72a",
        "outputId": "7bb56e35-5a7e-4b14-91df-18638aca0440"
      },
      "outputs": [
        {
          "data": {
            "image/png": "[encoded data removed]",
            "text/plain": [
              "<Figure size 720x576 with 1 Axes>"
            ]
          },
          "metadata": {},
          "output_type": "display_data"
        }
      ],
      "source": [
        "# Distribution of Tenure Months feature\n",
        "sns.histplot(telco_1['Tenure_Months'], kde=True).set_title('Distribution of Tenure Months') # histplot\n",
        "plt.axvline(x=telco_1['Tenure_Months'].mean(), c='red',label='Mean')         # Plotting mean value \n",
        "plt.axvline(x=telco_1['Tenure_Months'].median(), c='blue',ls='--',label='Median')  # Plotting median value \n",
        "plt.legend()\n",
        "plt.show()"
      ]
    },
    {
      "cell_type": "markdown",
      "id": "23b759e6",
      "metadata": {
        "id": "23b759e6"
      },
      "source": [
        "The Distribution of Tenure Months feature is apparently not a normal distribution, it is ***Binomial Distribution***. By the plot, there are two peaks. So there are two kinds of customers. More customers stay more than 70 months the most."
      ]
    },
    {
      "cell_type": "code",
      "execution_count": null,
      "id": "55faa65c",
      "metadata": {
        "id": "55faa65c",
        "outputId": "0996b4b7-256c-4c68-e12f-c27b31c6e40a"
      },
      "outputs": [
        {
          "name": "stdout",
          "output_type": "stream",
          "text": [
            "Tenure_Months Mean : 32.37114865824223\n",
            "Tenure_Months Median : 29.0\n",
            "Tenure_Months Standard deviation : 24.5577374228633\n"
          ]
        }
      ],
      "source": [
        "# finding mean, median and standard deviation of Tenure Months feature\n",
        "print(\"Tenure_Months Mean :\" ,telco_1['Tenure_Months'].mean())\n",
        "print(\"Tenure_Months Median :\",telco_1['Tenure_Months'].median())\n",
        "print(\"Tenure_Months Standard deviation :\",np.std(telco_1['Tenure_Months']))"
      ]
    },
    {
      "cell_type": "markdown",
      "id": "0086b85b",
      "metadata": {
        "id": "0086b85b"
      },
      "source": [
        "The Mean and Median of Tenure Months feature is almost same. The Standard deviation is 24.5."
      ]
    },
    {
      "cell_type": "code",
      "execution_count": null,
      "id": "be3c7042",
      "metadata": {
        "id": "be3c7042",
        "outputId": "dfd5b905-6cd9-4bc8-91e1-680216257780"
      },
      "outputs": [
        {
          "data": {
            "text/plain": [
              "0.2395397495619829"
            ]
          },
          "execution_count": 34,
          "metadata": {},
          "output_type": "execute_result"
        }
      ],
      "source": [
        "telco_1['Tenure_Months'].skew()"
      ]
    },
    {
      "cell_type": "markdown",
      "id": "1cdb3b06",
      "metadata": {
        "id": "1cdb3b06"
      },
      "source": [
        "The Tenure Months feature is Symmetric because the skewness value is between -0.5 and 0.5."
      ]
    },
    {
      "cell_type": "markdown",
      "id": "b4c8a3b2",
      "metadata": {
        "id": "b4c8a3b2"
      },
      "source": [
        "### 5. Please convert all binary columns into 0 and 1 using appropriate programming constructs, not one by one."
      ]
    },
    {
      "cell_type": "code",
      "execution_count": null,
      "id": "d4e62f39",
      "metadata": {
        "id": "d4e62f39"
      },
      "outputs": [],
      "source": [
        "telco_2 = telco_1.copy()    # creating the copy of data frame"
      ]
    },
    {
      "cell_type": "code",
      "execution_count": null,
      "id": "f1b83aaf",
      "metadata": {
        "id": "f1b83aaf",
        "outputId": "15aa9016-b90b-46b6-8de4-4a4b09dc9dd1"
      },
      "outputs": [
        {
          "data": {
            "text/html": [
              "<div>\n",
              "<style scoped>\n",
              "    .dataframe tbody tr th:only-of-type {\n",
              "        vertical-align: middle;\n",
              "    }\n",
              "\n",
              "    .dataframe tbody tr th {\n",
              "        vertical-align: top;\n",
              "    }\n",
              "\n",
              "    .dataframe thead th {\n",
              "        text-align: right;\n",
              "    }\n",
              "</style>\n",
              "<table border=\"1\" class=\"dataframe\">\n",
              "  <thead>\n",
              "    <tr style=\"text-align: right;\">\n",
              "      <th></th>\n",
              "      <th>CustomerID</th>\n",
              "      <th>Count</th>\n",
              "      <th>Country</th>\n",
              "      <th>State</th>\n",
              "      <th>City</th>\n",
              "      <th>Zip_Code</th>\n",
              "      <th>Lat_Long</th>\n",
              "      <th>Latitude</th>\n",
              "      <th>Longitude</th>\n",
              "      <th>Gender</th>\n",
              "      <th>Senior_Citizen</th>\n",
              "      <th>Partner</th>\n",
              "      <th>Dependents</th>\n",
              "      <th>Tenure_Months</th>\n",
              "      <th>Phone_Service</th>\n",
              "      <th>Multiple_Lines</th>\n",
              "      <th>Internet_Service</th>\n",
              "      <th>Online_Security</th>\n",
              "      <th>Online_Backup</th>\n",
              "      <th>Device_Protection</th>\n",
              "      <th>Tech_Support</th>\n",
              "      <th>Streaming_TV</th>\n",
              "      <th>Streaming_Movies</th>\n",
              "      <th>Contract</th>\n",
              "      <th>Paperless_Billing</th>\n",
              "      <th>Payment_Method</th>\n",
              "      <th>Monthly_Charges</th>\n",
              "      <th>Total_Charges</th>\n",
              "      <th>Churn_Label</th>\n",
              "      <th>Churn_Value</th>\n",
              "      <th>Churn_Score</th>\n",
              "      <th>CLTV</th>\n",
              "    </tr>\n",
              "  </thead>\n",
              "  <tbody>\n",
              "    <tr>\n",
              "      <th>0</th>\n",
              "      <td>3668-QPYBK</td>\n",
              "      <td>1</td>\n",
              "      <td>United States</td>\n",
              "      <td>California</td>\n",
              "      <td>Los Angeles</td>\n",
              "      <td>90003</td>\n",
              "      <td>33.964131, -118.272783</td>\n",
              "      <td>33.964131</td>\n",
              "      <td>-118.272783</td>\n",
              "      <td>Male</td>\n",
              "      <td>No</td>\n",
              "      <td>No</td>\n",
              "      <td>No</td>\n",
              "      <td>2</td>\n",
              "      <td>Yes</td>\n",
              "      <td>No</td>\n",
              "      <td>DSL</td>\n",
              "      <td>Yes</td>\n",
              "      <td>Yes</td>\n",
              "      <td>No</td>\n",
              "      <td>No</td>\n",
              "      <td>No</td>\n",
              "      <td>No</td>\n",
              "      <td>Month-to-month</td>\n",
              "      <td>Yes</td>\n",
              "      <td>Mailed check</td>\n",
              "      <td>53.85</td>\n",
              "      <td>108.15</td>\n",
              "      <td>Yes</td>\n",
              "      <td>1</td>\n",
              "      <td>86</td>\n",
              "      <td>3239</td>\n",
              "    </tr>\n",
              "    <tr>\n",
              "      <th>1</th>\n",
              "      <td>9237-HQITU</td>\n",
              "      <td>1</td>\n",
              "      <td>United States</td>\n",
              "      <td>California</td>\n",
              "      <td>Los Angeles</td>\n",
              "      <td>90005</td>\n",
              "      <td>34.059281, -118.30742</td>\n",
              "      <td>34.059281</td>\n",
              "      <td>-118.307420</td>\n",
              "      <td>Female</td>\n",
              "      <td>No</td>\n",
              "      <td>No</td>\n",
              "      <td>Yes</td>\n",
              "      <td>2</td>\n",
              "      <td>Yes</td>\n",
              "      <td>No</td>\n",
              "      <td>Fiber optic</td>\n",
              "      <td>No</td>\n",
              "      <td>No</td>\n",
              "      <td>No</td>\n",
              "      <td>No</td>\n",
              "      <td>No</td>\n",
              "      <td>No</td>\n",
              "      <td>Month-to-month</td>\n",
              "      <td>Yes</td>\n",
              "      <td>Electronic check</td>\n",
              "      <td>70.70</td>\n",
              "      <td>151.65</td>\n",
              "      <td>Yes</td>\n",
              "      <td>1</td>\n",
              "      <td>67</td>\n",
              "      <td>2701</td>\n",
              "    </tr>\n",
              "    <tr>\n",
              "      <th>2</th>\n",
              "      <td>9305-CDSKC</td>\n",
              "      <td>1</td>\n",
              "      <td>United States</td>\n",
              "      <td>California</td>\n",
              "      <td>Los Angeles</td>\n",
              "      <td>90006</td>\n",
              "      <td>34.048013, -118.293953</td>\n",
              "      <td>34.048013</td>\n",
              "      <td>-118.293953</td>\n",
              "      <td>Female</td>\n",
              "      <td>No</td>\n",
              "      <td>No</td>\n",
              "      <td>Yes</td>\n",
              "      <td>8</td>\n",
              "      <td>Yes</td>\n",
              "      <td>Yes</td>\n",
              "      <td>Fiber optic</td>\n",
              "      <td>No</td>\n",
              "      <td>No</td>\n",
              "      <td>Yes</td>\n",
              "      <td>No</td>\n",
              "      <td>Yes</td>\n",
              "      <td>Yes</td>\n",
              "      <td>Month-to-month</td>\n",
              "      <td>Yes</td>\n",
              "      <td>Electronic check</td>\n",
              "      <td>99.65</td>\n",
              "      <td>820.50</td>\n",
              "      <td>Yes</td>\n",
              "      <td>1</td>\n",
              "      <td>86</td>\n",
              "      <td>5372</td>\n",
              "    </tr>\n",
              "    <tr>\n",
              "      <th>3</th>\n",
              "      <td>7892-POOKP</td>\n",
              "      <td>1</td>\n",
              "      <td>United States</td>\n",
              "      <td>California</td>\n",
              "      <td>Los Angeles</td>\n",
              "      <td>90010</td>\n",
              "      <td>34.062125, -118.315709</td>\n",
              "      <td>34.062125</td>\n",
              "      <td>-118.315709</td>\n",
              "      <td>Female</td>\n",
              "      <td>No</td>\n",
              "      <td>Yes</td>\n",
              "      <td>Yes</td>\n",
              "      <td>28</td>\n",
              "      <td>Yes</td>\n",
              "      <td>Yes</td>\n",
              "      <td>Fiber optic</td>\n",
              "      <td>No</td>\n",
              "      <td>No</td>\n",
              "      <td>Yes</td>\n",
              "      <td>Yes</td>\n",
              "      <td>Yes</td>\n",
              "      <td>Yes</td>\n",
              "      <td>Month-to-month</td>\n",
              "      <td>Yes</td>\n",
              "      <td>Electronic check</td>\n",
              "      <td>104.80</td>\n",
              "      <td>3046.05</td>\n",
              "      <td>Yes</td>\n",
              "      <td>1</td>\n",
              "      <td>84</td>\n",
              "      <td>5003</td>\n",
              "    </tr>\n",
              "    <tr>\n",
              "      <th>4</th>\n",
              "      <td>0280-XJGEX</td>\n",
              "      <td>1</td>\n",
              "      <td>United States</td>\n",
              "      <td>California</td>\n",
              "      <td>Los Angeles</td>\n",
              "      <td>90015</td>\n",
              "      <td>34.039224, -118.266293</td>\n",
              "      <td>34.039224</td>\n",
              "      <td>-118.266293</td>\n",
              "      <td>Male</td>\n",
              "      <td>No</td>\n",
              "      <td>No</td>\n",
              "      <td>Yes</td>\n",
              "      <td>49</td>\n",
              "      <td>Yes</td>\n",
              "      <td>Yes</td>\n",
              "      <td>Fiber optic</td>\n",
              "      <td>No</td>\n",
              "      <td>Yes</td>\n",
              "      <td>Yes</td>\n",
              "      <td>No</td>\n",
              "      <td>Yes</td>\n",
              "      <td>Yes</td>\n",
              "      <td>Month-to-month</td>\n",
              "      <td>Yes</td>\n",
              "      <td>Bank transfer (automatic)</td>\n",
              "      <td>103.70</td>\n",
              "      <td>5036.30</td>\n",
              "      <td>Yes</td>\n",
              "      <td>1</td>\n",
              "      <td>89</td>\n",
              "      <td>5340</td>\n",
              "    </tr>\n",
              "  </tbody>\n",
              "</table>\n",
              "</div>"
            ],
            "text/plain": [
              "   CustomerID  Count        Country       State         City Zip_Code  \\\n",
              "0  3668-QPYBK      1  United States  California  Los Angeles    90003   \n",
              "1  9237-HQITU      1  United States  California  Los Angeles    90005   \n",
              "2  9305-CDSKC      1  United States  California  Los Angeles    90006   \n",
              "3  7892-POOKP      1  United States  California  Los Angeles    90010   \n",
              "4  0280-XJGEX      1  United States  California  Los Angeles    90015   \n",
              "\n",
              "                 Lat_Long   Latitude   Longitude  Gender Senior_Citizen  \\\n",
              "0  33.964131, -118.272783  33.964131 -118.272783    Male             No   \n",
              "1   34.059281, -118.30742  34.059281 -118.307420  Female             No   \n",
              "2  34.048013, -118.293953  34.048013 -118.293953  Female             No   \n",
              "3  34.062125, -118.315709  34.062125 -118.315709  Female             No   \n",
              "4  34.039224, -118.266293  34.039224 -118.266293    Male             No   \n",
              "\n",
              "  Partner Dependents  Tenure_Months Phone_Service Multiple_Lines  \\\n",
              "0      No         No              2           Yes             No   \n",
              "1      No        Yes              2           Yes             No   \n",
              "2      No        Yes              8           Yes            Yes   \n",
              "3     Yes        Yes             28           Yes            Yes   \n",
              "4      No        Yes             49           Yes            Yes   \n",
              "\n",
              "  Internet_Service Online_Security Online_Backup Device_Protection  \\\n",
              "0              DSL             Yes           Yes                No   \n",
              "1      Fiber optic              No            No                No   \n",
              "2      Fiber optic              No            No               Yes   \n",
              "3      Fiber optic              No            No               Yes   \n",
              "4      Fiber optic              No           Yes               Yes   \n",
              "\n",
              "  Tech_Support Streaming_TV Streaming_Movies        Contract  \\\n",
              "0           No           No               No  Month-to-month   \n",
              "1           No           No               No  Month-to-month   \n",
              "2           No          Yes              Yes  Month-to-month   \n",
              "3          Yes          Yes              Yes  Month-to-month   \n",
              "4           No          Yes              Yes  Month-to-month   \n",
              "\n",
              "  Paperless_Billing             Payment_Method  Monthly_Charges  \\\n",
              "0               Yes               Mailed check            53.85   \n",
              "1               Yes           Electronic check            70.70   \n",
              "2               Yes           Electronic check            99.65   \n",
              "3               Yes           Electronic check           104.80   \n",
              "4               Yes  Bank transfer (automatic)           103.70   \n",
              "\n",
              "   Total_Charges Churn_Label  Churn_Value  Churn_Score  CLTV  \n",
              "0         108.15         Yes            1           86  3239  \n",
              "1         151.65         Yes            1           67  2701  \n",
              "2         820.50         Yes            1           86  5372  \n",
              "3        3046.05         Yes            1           84  5003  \n",
              "4        5036.30         Yes            1           89  5340  "
            ]
          },
          "execution_count": 72,
          "metadata": {},
          "output_type": "execute_result"
        }
      ],
      "source": [
        "telco_2.head()"
      ]
    },
    {
      "cell_type": "code",
      "execution_count": null,
      "id": "10aa486c",
      "metadata": {
        "id": "10aa486c",
        "outputId": "ba820da1-b666-441b-ec51-46f9eae90cf2"
      },
      "outputs": [
        {
          "data": {
            "text/plain": [
              "['CustomerID',\n",
              " 'Country',\n",
              " 'State',\n",
              " 'City',\n",
              " 'Zip_Code',\n",
              " 'Lat_Long',\n",
              " 'Gender',\n",
              " 'Senior_Citizen',\n",
              " 'Partner',\n",
              " 'Dependents',\n",
              " 'Phone_Service',\n",
              " 'Multiple_Lines',\n",
              " 'Internet_Service',\n",
              " 'Online_Security',\n",
              " 'Online_Backup',\n",
              " 'Device_Protection',\n",
              " 'Tech_Support',\n",
              " 'Streaming_TV',\n",
              " 'Streaming_Movies',\n",
              " 'Contract',\n",
              " 'Paperless_Billing',\n",
              " 'Payment_Method',\n",
              " 'Churn_Label']"
            ]
          },
          "execution_count": 73,
          "metadata": {},
          "output_type": "execute_result"
        }
      ],
      "source": [
        "# Fetching all Catogrical features\n",
        "cat_features = [feature for feature in telco_2.columns if telco_2[feature].dtype == 'O']\n",
        "cat_features"
      ]
    },
    {
      "cell_type": "code",
      "execution_count": null,
      "id": "3a67ace6",
      "metadata": {
        "id": "3a67ace6",
        "outputId": "92c1cc39-4d97-4058-b90a-b8d66bf488e9"
      },
      "outputs": [
        {
          "name": "stdout",
          "output_type": "stream",
          "text": [
            "Gender 2\n",
            "Senior_Citizen 2\n",
            "Partner 2\n",
            "Dependents 2\n",
            "Phone_Service 2\n",
            "Paperless_Billing 2\n",
            "Churn_Label 2\n"
          ]
        }
      ],
      "source": [
        "for i in cat_features:\n",
        "    if (telco_2[i].nunique() == 2):   # fetching all the features that have unique values 2\n",
        "        print(i,telco_2[i].nunique())"
      ]
    },
    {
      "cell_type": "markdown",
      "id": "9929fc98",
      "metadata": {
        "id": "9929fc98"
      },
      "source": [
        "**There are 7 features that are having 2 unique values in each, So now I am going to convert these binary columns into 0 and 1**"
      ]
    },
    {
      "cell_type": "code",
      "execution_count": null,
      "id": "42d705cd",
      "metadata": {
        "id": "42d705cd",
        "outputId": "f7f6a695-ddce-4fb0-de38-daa5b2ed6831"
      },
      "outputs": [
        {
          "name": "stdout",
          "output_type": "stream",
          "text": [
            "7 columns were label encoded.\n"
          ]
        }
      ],
      "source": [
        "# Importing the preprocessing for LabelEncoder\n",
        "from sklearn import preprocessing\n",
        "\n",
        "# Create a label encoder object\n",
        "le = preprocessing.LabelEncoder()\n",
        "\n",
        "# Label Encoding will be used for columns with 2 or less unique values\n",
        "\n",
        "value_count = 0\n",
        "for feature in telco_2.columns[1:]:\n",
        "    if telco_2[feature].dtype == 'object':\n",
        "        if len(list(telco_2[feature].unique())) == 2:\n",
        "            le.fit(telco_2[feature])\n",
        "            telco_2[feature] = le.transform(telco_2[feature])\n",
        "            value_count += 1\n",
        "print('{} columns were label encoded.'.format(value_count))"
      ]
    },
    {
      "cell_type": "code",
      "execution_count": null,
      "id": "646ce54d",
      "metadata": {
        "id": "646ce54d",
        "outputId": "141fe1b5-423e-4709-c549-858c02a9589e"
      },
      "outputs": [
        {
          "data": {
            "text/html": [
              "<div>\n",
              "<style scoped>\n",
              "    .dataframe tbody tr th:only-of-type {\n",
              "        vertical-align: middle;\n",
              "    }\n",
              "\n",
              "    .dataframe tbody tr th {\n",
              "        vertical-align: top;\n",
              "    }\n",
              "\n",
              "    .dataframe thead th {\n",
              "        text-align: right;\n",
              "    }\n",
              "</style>\n",
              "<table border=\"1\" class=\"dataframe\">\n",
              "  <thead>\n",
              "    <tr style=\"text-align: right;\">\n",
              "      <th></th>\n",
              "      <th>CustomerID</th>\n",
              "      <th>Count</th>\n",
              "      <th>Country</th>\n",
              "      <th>State</th>\n",
              "      <th>City</th>\n",
              "      <th>Zip_Code</th>\n",
              "      <th>Lat_Long</th>\n",
              "      <th>Latitude</th>\n",
              "      <th>Longitude</th>\n",
              "      <th>Gender</th>\n",
              "      <th>Senior_Citizen</th>\n",
              "      <th>Partner</th>\n",
              "      <th>Dependents</th>\n",
              "      <th>Tenure_Months</th>\n",
              "      <th>Phone_Service</th>\n",
              "      <th>Multiple_Lines</th>\n",
              "      <th>Internet_Service</th>\n",
              "      <th>Online_Security</th>\n",
              "      <th>Online_Backup</th>\n",
              "      <th>Device_Protection</th>\n",
              "      <th>Tech_Support</th>\n",
              "      <th>Streaming_TV</th>\n",
              "      <th>Streaming_Movies</th>\n",
              "      <th>Contract</th>\n",
              "      <th>Paperless_Billing</th>\n",
              "      <th>Payment_Method</th>\n",
              "      <th>Monthly_Charges</th>\n",
              "      <th>Total_Charges</th>\n",
              "      <th>Churn_Label</th>\n",
              "      <th>Churn_Value</th>\n",
              "      <th>Churn_Score</th>\n",
              "      <th>CLTV</th>\n",
              "    </tr>\n",
              "  </thead>\n",
              "  <tbody>\n",
              "    <tr>\n",
              "      <th>0</th>\n",
              "      <td>3668-QPYBK</td>\n",
              "      <td>1</td>\n",
              "      <td>United States</td>\n",
              "      <td>California</td>\n",
              "      <td>Los Angeles</td>\n",
              "      <td>90003</td>\n",
              "      <td>33.964131, -118.272783</td>\n",
              "      <td>33.964131</td>\n",
              "      <td>-118.272783</td>\n",
              "      <td>1</td>\n",
              "      <td>0</td>\n",
              "      <td>0</td>\n",
              "      <td>0</td>\n",
              "      <td>2</td>\n",
              "      <td>1</td>\n",
              "      <td>No</td>\n",
              "      <td>DSL</td>\n",
              "      <td>Yes</td>\n",
              "      <td>Yes</td>\n",
              "      <td>No</td>\n",
              "      <td>No</td>\n",
              "      <td>No</td>\n",
              "      <td>No</td>\n",
              "      <td>Month-to-month</td>\n",
              "      <td>1</td>\n",
              "      <td>Mailed check</td>\n",
              "      <td>53.85</td>\n",
              "      <td>108.15</td>\n",
              "      <td>1</td>\n",
              "      <td>1</td>\n",
              "      <td>86</td>\n",
              "      <td>3239</td>\n",
              "    </tr>\n",
              "    <tr>\n",
              "      <th>1</th>\n",
              "      <td>9237-HQITU</td>\n",
              "      <td>1</td>\n",
              "      <td>United States</td>\n",
              "      <td>California</td>\n",
              "      <td>Los Angeles</td>\n",
              "      <td>90005</td>\n",
              "      <td>34.059281, -118.30742</td>\n",
              "      <td>34.059281</td>\n",
              "      <td>-118.307420</td>\n",
              "      <td>0</td>\n",
              "      <td>0</td>\n",
              "      <td>0</td>\n",
              "      <td>1</td>\n",
              "      <td>2</td>\n",
              "      <td>1</td>\n",
              "      <td>No</td>\n",
              "      <td>Fiber optic</td>\n",
              "      <td>No</td>\n",
              "      <td>No</td>\n",
              "      <td>No</td>\n",
              "      <td>No</td>\n",
              "      <td>No</td>\n",
              "      <td>No</td>\n",
              "      <td>Month-to-month</td>\n",
              "      <td>1</td>\n",
              "      <td>Electronic check</td>\n",
              "      <td>70.70</td>\n",
              "      <td>151.65</td>\n",
              "      <td>1</td>\n",
              "      <td>1</td>\n",
              "      <td>67</td>\n",
              "      <td>2701</td>\n",
              "    </tr>\n",
              "    <tr>\n",
              "      <th>2</th>\n",
              "      <td>9305-CDSKC</td>\n",
              "      <td>1</td>\n",
              "      <td>United States</td>\n",
              "      <td>California</td>\n",
              "      <td>Los Angeles</td>\n",
              "      <td>90006</td>\n",
              "      <td>34.048013, -118.293953</td>\n",
              "      <td>34.048013</td>\n",
              "      <td>-118.293953</td>\n",
              "      <td>0</td>\n",
              "      <td>0</td>\n",
              "      <td>0</td>\n",
              "      <td>1</td>\n",
              "      <td>8</td>\n",
              "      <td>1</td>\n",
              "      <td>Yes</td>\n",
              "      <td>Fiber optic</td>\n",
              "      <td>No</td>\n",
              "      <td>No</td>\n",
              "      <td>Yes</td>\n",
              "      <td>No</td>\n",
              "      <td>Yes</td>\n",
              "      <td>Yes</td>\n",
              "      <td>Month-to-month</td>\n",
              "      <td>1</td>\n",
              "      <td>Electronic check</td>\n",
              "      <td>99.65</td>\n",
              "      <td>820.50</td>\n",
              "      <td>1</td>\n",
              "      <td>1</td>\n",
              "      <td>86</td>\n",
              "      <td>5372</td>\n",
              "    </tr>\n",
              "    <tr>\n",
              "      <th>3</th>\n",
              "      <td>7892-POOKP</td>\n",
              "      <td>1</td>\n",
              "      <td>United States</td>\n",
              "      <td>California</td>\n",
              "      <td>Los Angeles</td>\n",
              "      <td>90010</td>\n",
              "      <td>34.062125, -118.315709</td>\n",
              "      <td>34.062125</td>\n",
              "      <td>-118.315709</td>\n",
              "      <td>0</td>\n",
              "      <td>0</td>\n",
              "      <td>1</td>\n",
              "      <td>1</td>\n",
              "      <td>28</td>\n",
              "      <td>1</td>\n",
              "      <td>Yes</td>\n",
              "      <td>Fiber optic</td>\n",
              "      <td>No</td>\n",
              "      <td>No</td>\n",
              "      <td>Yes</td>\n",
              "      <td>Yes</td>\n",
              "      <td>Yes</td>\n",
              "      <td>Yes</td>\n",
              "      <td>Month-to-month</td>\n",
              "      <td>1</td>\n",
              "      <td>Electronic check</td>\n",
              "      <td>104.80</td>\n",
              "      <td>3046.05</td>\n",
              "      <td>1</td>\n",
              "      <td>1</td>\n",
              "      <td>84</td>\n",
              "      <td>5003</td>\n",
              "    </tr>\n",
              "    <tr>\n",
              "      <th>4</th>\n",
              "      <td>0280-XJGEX</td>\n",
              "      <td>1</td>\n",
              "      <td>United States</td>\n",
              "      <td>California</td>\n",
              "      <td>Los Angeles</td>\n",
              "      <td>90015</td>\n",
              "      <td>34.039224, -118.266293</td>\n",
              "      <td>34.039224</td>\n",
              "      <td>-118.266293</td>\n",
              "      <td>1</td>\n",
              "      <td>0</td>\n",
              "      <td>0</td>\n",
              "      <td>1</td>\n",
              "      <td>49</td>\n",
              "      <td>1</td>\n",
              "      <td>Yes</td>\n",
              "      <td>Fiber optic</td>\n",
              "      <td>No</td>\n",
              "      <td>Yes</td>\n",
              "      <td>Yes</td>\n",
              "      <td>No</td>\n",
              "      <td>Yes</td>\n",
              "      <td>Yes</td>\n",
              "      <td>Month-to-month</td>\n",
              "      <td>1</td>\n",
              "      <td>Bank transfer (automatic)</td>\n",
              "      <td>103.70</td>\n",
              "      <td>5036.30</td>\n",
              "      <td>1</td>\n",
              "      <td>1</td>\n",
              "      <td>89</td>\n",
              "      <td>5340</td>\n",
              "    </tr>\n",
              "  </tbody>\n",
              "</table>\n",
              "</div>"
            ],
            "text/plain": [
              "   CustomerID  Count        Country       State         City Zip_Code  \\\n",
              "0  3668-QPYBK      1  United States  California  Los Angeles    90003   \n",
              "1  9237-HQITU      1  United States  California  Los Angeles    90005   \n",
              "2  9305-CDSKC      1  United States  California  Los Angeles    90006   \n",
              "3  7892-POOKP      1  United States  California  Los Angeles    90010   \n",
              "4  0280-XJGEX      1  United States  California  Los Angeles    90015   \n",
              "\n",
              "                 Lat_Long   Latitude   Longitude  Gender  Senior_Citizen  \\\n",
              "0  33.964131, -118.272783  33.964131 -118.272783       1               0   \n",
              "1   34.059281, -118.30742  34.059281 -118.307420       0               0   \n",
              "2  34.048013, -118.293953  34.048013 -118.293953       0               0   \n",
              "3  34.062125, -118.315709  34.062125 -118.315709       0               0   \n",
              "4  34.039224, -118.266293  34.039224 -118.266293       1               0   \n",
              "\n",
              "   Partner  Dependents  Tenure_Months  Phone_Service Multiple_Lines  \\\n",
              "0        0           0              2              1             No   \n",
              "1        0           1              2              1             No   \n",
              "2        0           1              8              1            Yes   \n",
              "3        1           1             28              1            Yes   \n",
              "4        0           1             49              1            Yes   \n",
              "\n",
              "  Internet_Service Online_Security Online_Backup Device_Protection  \\\n",
              "0              DSL             Yes           Yes                No   \n",
              "1      Fiber optic              No            No                No   \n",
              "2      Fiber optic              No            No               Yes   \n",
              "3      Fiber optic              No            No               Yes   \n",
              "4      Fiber optic              No           Yes               Yes   \n",
              "\n",
              "  Tech_Support Streaming_TV Streaming_Movies        Contract  \\\n",
              "0           No           No               No  Month-to-month   \n",
              "1           No           No               No  Month-to-month   \n",
              "2           No          Yes              Yes  Month-to-month   \n",
              "3          Yes          Yes              Yes  Month-to-month   \n",
              "4           No          Yes              Yes  Month-to-month   \n",
              "\n",
              "   Paperless_Billing             Payment_Method  Monthly_Charges  \\\n",
              "0                  1               Mailed check            53.85   \n",
              "1                  1           Electronic check            70.70   \n",
              "2                  1           Electronic check            99.65   \n",
              "3                  1           Electronic check           104.80   \n",
              "4                  1  Bank transfer (automatic)           103.70   \n",
              "\n",
              "   Total_Charges  Churn_Label  Churn_Value  Churn_Score  CLTV  \n",
              "0         108.15            1            1           86  3239  \n",
              "1         151.65            1            1           67  2701  \n",
              "2         820.50            1            1           86  5372  \n",
              "3        3046.05            1            1           84  5003  \n",
              "4        5036.30            1            1           89  5340  "
            ]
          },
          "execution_count": 77,
          "metadata": {},
          "output_type": "execute_result"
        }
      ],
      "source": [
        "telco_2.head()"
      ]
    },
    {
      "cell_type": "markdown",
      "id": "a4b0f413",
      "metadata": {
        "id": "a4b0f413"
      },
      "source": [
        "By the result all the 7 features have been converted into 0 and 1"
      ]
    },
    {
      "cell_type": "markdown",
      "id": "7976ac2a",
      "metadata": {
        "id": "7976ac2a"
      },
      "source": [
        "### 6. Please examine the distribution of monthly charges between males and females using box plots. Please explain the results also. "
      ]
    },
    {
      "cell_type": "code",
      "execution_count": null,
      "id": "07a9ed3f",
      "metadata": {
        "id": "07a9ed3f",
        "outputId": "49bff7b3-d0d0-4867-c2e9-c6895adb35cf"
      },
      "outputs": [
        {
          "data": {
            "image/png": "[encoded data removed]",
            "text/plain": [
              "<Figure size 720x576 with 1 Axes>"
            ]
          },
          "metadata": {},
          "output_type": "display_data"
        }
      ],
      "source": [
        "# box plot\n",
        "sns.boxplot(x=telco_1['Gender'] ,y=telco_1['Monthly_Charges'],showmeans=True).set_title(\"Distribution of Males and Females in Monthly Charges\")\n",
        "plt.ylabel('Monthly Charges')     # setting y label\n",
        "plt.show()"
      ]
    },
    {
      "cell_type": "markdown",
      "id": "d54681d1",
      "metadata": {
        "id": "d54681d1"
      },
      "source": [
        "The distribution of Total charges among the Males and Females is almost same, The females are slightly high."
      ]
    },
    {
      "cell_type": "markdown",
      "id": "05f6dca9",
      "metadata": {
        "id": "05f6dca9"
      },
      "source": [
        "### 7.  Please find what is the minimum total charges for Los Angeles city. Please find which zip code has the maximum total charges."
      ]
    },
    {
      "cell_type": "code",
      "execution_count": null,
      "id": "c26e3454",
      "metadata": {
        "id": "c26e3454",
        "outputId": "f962fa90-8958-430b-ceb2-7a46ec080a06"
      },
      "outputs": [
        {
          "name": "stdout",
          "output_type": "stream",
          "text": [
            "The Minimum total Charges for Los Angeles city is: 18.8\n"
          ]
        }
      ],
      "source": [
        "t = telco_1[telco_1['City'] == 'Los Angeles']  # selecting all the rows where city is Los Angeles\n",
        "print(\"The Minimum total Charges for Los Angeles city is:\", np.min(t['Total_Charges']))   # selecting the minimum total charges"
      ]
    },
    {
      "cell_type": "markdown",
      "id": "daeeca20",
      "metadata": {
        "id": "daeeca20"
      },
      "source": [
        "The minimum total Charges in Los Angeles city is **18.8**"
      ]
    },
    {
      "cell_type": "code",
      "execution_count": null,
      "id": "57fe0aa2",
      "metadata": {
        "id": "57fe0aa2"
      },
      "outputs": [],
      "source": [
        "v = telco_1[telco_1['Total_Charges'] == np.max(telco_1['Total_Charges'])]   # fetching the maximum Total Charges Observation"
      ]
    },
    {
      "cell_type": "code",
      "execution_count": null,
      "id": "f0e467cd",
      "metadata": {
        "id": "f0e467cd",
        "outputId": "201fd2b2-b3ff-48d0-f576-9fd3045171f0"
      },
      "outputs": [
        {
          "name": "stdout",
          "output_type": "stream",
          "text": [
            "Zip Code has the maximum Total Charges : [95519]\n"
          ]
        }
      ],
      "source": [
        "print(\"Zip Code has the maximum Total Charges :\", v.Zip_Code.values)   # printing the Zip code that has max Total Charges"
      ]
    },
    {
      "cell_type": "markdown",
      "id": "eb5641f3",
      "metadata": {
        "id": "eb5641f3"
      },
      "source": [
        "Zip Code ***95519*** has the maximum Total Charges of 8684.4"
      ]
    },
    {
      "cell_type": "markdown",
      "id": "0d8b3858",
      "metadata": {
        "id": "0d8b3858"
      },
      "source": [
        "### 8.  Please find which payment method has the highest churn score and which has the lowest churn score."
      ]
    },
    {
      "cell_type": "code",
      "execution_count": null,
      "id": "26d8c842",
      "metadata": {
        "id": "26d8c842",
        "outputId": "861e0969-4636-4838-8a21-8ee109e37070"
      },
      "outputs": [
        {
          "data": {
            "text/html": [
              "<div>\n",
              "<style scoped>\n",
              "    .dataframe tbody tr th:only-of-type {\n",
              "        vertical-align: middle;\n",
              "    }\n",
              "\n",
              "    .dataframe tbody tr th {\n",
              "        vertical-align: top;\n",
              "    }\n",
              "\n",
              "    .dataframe thead th {\n",
              "        text-align: right;\n",
              "    }\n",
              "</style>\n",
              "<table border=\"1\" class=\"dataframe\">\n",
              "  <thead>\n",
              "    <tr style=\"text-align: right;\">\n",
              "      <th></th>\n",
              "      <th>CustomerID</th>\n",
              "      <th>Count</th>\n",
              "      <th>Country</th>\n",
              "      <th>State</th>\n",
              "      <th>City</th>\n",
              "      <th>Zip_Code</th>\n",
              "      <th>Lat_Long</th>\n",
              "      <th>Latitude</th>\n",
              "      <th>Longitude</th>\n",
              "      <th>Gender</th>\n",
              "      <th>Senior_Citizen</th>\n",
              "      <th>Partner</th>\n",
              "      <th>Dependents</th>\n",
              "      <th>Tenure_Months</th>\n",
              "      <th>Phone_Service</th>\n",
              "      <th>Multiple_Lines</th>\n",
              "      <th>Internet_Service</th>\n",
              "      <th>Online_Security</th>\n",
              "      <th>Online_Backup</th>\n",
              "      <th>Device_Protection</th>\n",
              "      <th>Tech_Support</th>\n",
              "      <th>Streaming_TV</th>\n",
              "      <th>Streaming_Movies</th>\n",
              "      <th>Contract</th>\n",
              "      <th>Paperless_Billing</th>\n",
              "      <th>Payment_Method</th>\n",
              "      <th>Monthly_Charges</th>\n",
              "      <th>Total_Charges</th>\n",
              "      <th>Churn_Label</th>\n",
              "      <th>Churn_Value</th>\n",
              "      <th>Churn_Score</th>\n",
              "      <th>CLTV</th>\n",
              "    </tr>\n",
              "  </thead>\n",
              "  <tbody>\n",
              "    <tr>\n",
              "      <th>0</th>\n",
              "      <td>3668-QPYBK</td>\n",
              "      <td>1</td>\n",
              "      <td>United States</td>\n",
              "      <td>California</td>\n",
              "      <td>Los Angeles</td>\n",
              "      <td>90003</td>\n",
              "      <td>33.964131, -118.272783</td>\n",
              "      <td>33.964131</td>\n",
              "      <td>-118.272783</td>\n",
              "      <td>Male</td>\n",
              "      <td>No</td>\n",
              "      <td>No</td>\n",
              "      <td>No</td>\n",
              "      <td>2</td>\n",
              "      <td>Yes</td>\n",
              "      <td>No</td>\n",
              "      <td>DSL</td>\n",
              "      <td>Yes</td>\n",
              "      <td>Yes</td>\n",
              "      <td>No</td>\n",
              "      <td>No</td>\n",
              "      <td>No</td>\n",
              "      <td>No</td>\n",
              "      <td>Month-to-month</td>\n",
              "      <td>Yes</td>\n",
              "      <td>Mailed check</td>\n",
              "      <td>53.85</td>\n",
              "      <td>108.15</td>\n",
              "      <td>Yes</td>\n",
              "      <td>1</td>\n",
              "      <td>86</td>\n",
              "      <td>3239</td>\n",
              "    </tr>\n",
              "    <tr>\n",
              "      <th>1</th>\n",
              "      <td>9237-HQITU</td>\n",
              "      <td>1</td>\n",
              "      <td>United States</td>\n",
              "      <td>California</td>\n",
              "      <td>Los Angeles</td>\n",
              "      <td>90005</td>\n",
              "      <td>34.059281, -118.30742</td>\n",
              "      <td>34.059281</td>\n",
              "      <td>-118.307420</td>\n",
              "      <td>Female</td>\n",
              "      <td>No</td>\n",
              "      <td>No</td>\n",
              "      <td>Yes</td>\n",
              "      <td>2</td>\n",
              "      <td>Yes</td>\n",
              "      <td>No</td>\n",
              "      <td>Fiber optic</td>\n",
              "      <td>No</td>\n",
              "      <td>No</td>\n",
              "      <td>No</td>\n",
              "      <td>No</td>\n",
              "      <td>No</td>\n",
              "      <td>No</td>\n",
              "      <td>Month-to-month</td>\n",
              "      <td>Yes</td>\n",
              "      <td>Electronic check</td>\n",
              "      <td>70.70</td>\n",
              "      <td>151.65</td>\n",
              "      <td>Yes</td>\n",
              "      <td>1</td>\n",
              "      <td>67</td>\n",
              "      <td>2701</td>\n",
              "    </tr>\n",
              "    <tr>\n",
              "      <th>2</th>\n",
              "      <td>9305-CDSKC</td>\n",
              "      <td>1</td>\n",
              "      <td>United States</td>\n",
              "      <td>California</td>\n",
              "      <td>Los Angeles</td>\n",
              "      <td>90006</td>\n",
              "      <td>34.048013, -118.293953</td>\n",
              "      <td>34.048013</td>\n",
              "      <td>-118.293953</td>\n",
              "      <td>Female</td>\n",
              "      <td>No</td>\n",
              "      <td>No</td>\n",
              "      <td>Yes</td>\n",
              "      <td>8</td>\n",
              "      <td>Yes</td>\n",
              "      <td>Yes</td>\n",
              "      <td>Fiber optic</td>\n",
              "      <td>No</td>\n",
              "      <td>No</td>\n",
              "      <td>Yes</td>\n",
              "      <td>No</td>\n",
              "      <td>Yes</td>\n",
              "      <td>Yes</td>\n",
              "      <td>Month-to-month</td>\n",
              "      <td>Yes</td>\n",
              "      <td>Electronic check</td>\n",
              "      <td>99.65</td>\n",
              "      <td>820.50</td>\n",
              "      <td>Yes</td>\n",
              "      <td>1</td>\n",
              "      <td>86</td>\n",
              "      <td>5372</td>\n",
              "    </tr>\n",
              "    <tr>\n",
              "      <th>3</th>\n",
              "      <td>7892-POOKP</td>\n",
              "      <td>1</td>\n",
              "      <td>United States</td>\n",
              "      <td>California</td>\n",
              "      <td>Los Angeles</td>\n",
              "      <td>90010</td>\n",
              "      <td>34.062125, -118.315709</td>\n",
              "      <td>34.062125</td>\n",
              "      <td>-118.315709</td>\n",
              "      <td>Female</td>\n",
              "      <td>No</td>\n",
              "      <td>Yes</td>\n",
              "      <td>Yes</td>\n",
              "      <td>28</td>\n",
              "      <td>Yes</td>\n",
              "      <td>Yes</td>\n",
              "      <td>Fiber optic</td>\n",
              "      <td>No</td>\n",
              "      <td>No</td>\n",
              "      <td>Yes</td>\n",
              "      <td>Yes</td>\n",
              "      <td>Yes</td>\n",
              "      <td>Yes</td>\n",
              "      <td>Month-to-month</td>\n",
              "      <td>Yes</td>\n",
              "      <td>Electronic check</td>\n",
              "      <td>104.80</td>\n",
              "      <td>3046.05</td>\n",
              "      <td>Yes</td>\n",
              "      <td>1</td>\n",
              "      <td>84</td>\n",
              "      <td>5003</td>\n",
              "    </tr>\n",
              "    <tr>\n",
              "      <th>4</th>\n",
              "      <td>0280-XJGEX</td>\n",
              "      <td>1</td>\n",
              "      <td>United States</td>\n",
              "      <td>California</td>\n",
              "      <td>Los Angeles</td>\n",
              "      <td>90015</td>\n",
              "      <td>34.039224, -118.266293</td>\n",
              "      <td>34.039224</td>\n",
              "      <td>-118.266293</td>\n",
              "      <td>Male</td>\n",
              "      <td>No</td>\n",
              "      <td>No</td>\n",
              "      <td>Yes</td>\n",
              "      <td>49</td>\n",
              "      <td>Yes</td>\n",
              "      <td>Yes</td>\n",
              "      <td>Fiber optic</td>\n",
              "      <td>No</td>\n",
              "      <td>Yes</td>\n",
              "      <td>Yes</td>\n",
              "      <td>No</td>\n",
              "      <td>Yes</td>\n",
              "      <td>Yes</td>\n",
              "      <td>Month-to-month</td>\n",
              "      <td>Yes</td>\n",
              "      <td>Bank transfer (automatic)</td>\n",
              "      <td>103.70</td>\n",
              "      <td>5036.30</td>\n",
              "      <td>Yes</td>\n",
              "      <td>1</td>\n",
              "      <td>89</td>\n",
              "      <td>5340</td>\n",
              "    </tr>\n",
              "  </tbody>\n",
              "</table>\n",
              "</div>"
            ],
            "text/plain": [
              "   CustomerID  Count        Country       State         City Zip_Code  \\\n",
              "0  3668-QPYBK      1  United States  California  Los Angeles    90003   \n",
              "1  9237-HQITU      1  United States  California  Los Angeles    90005   \n",
              "2  9305-CDSKC      1  United States  California  Los Angeles    90006   \n",
              "3  7892-POOKP      1  United States  California  Los Angeles    90010   \n",
              "4  0280-XJGEX      1  United States  California  Los Angeles    90015   \n",
              "\n",
              "                 Lat_Long   Latitude   Longitude  Gender Senior_Citizen  \\\n",
              "0  33.964131, -118.272783  33.964131 -118.272783    Male             No   \n",
              "1   34.059281, -118.30742  34.059281 -118.307420  Female             No   \n",
              "2  34.048013, -118.293953  34.048013 -118.293953  Female             No   \n",
              "3  34.062125, -118.315709  34.062125 -118.315709  Female             No   \n",
              "4  34.039224, -118.266293  34.039224 -118.266293    Male             No   \n",
              "\n",
              "  Partner Dependents  Tenure_Months Phone_Service Multiple_Lines  \\\n",
              "0      No         No              2           Yes             No   \n",
              "1      No        Yes              2           Yes             No   \n",
              "2      No        Yes              8           Yes            Yes   \n",
              "3     Yes        Yes             28           Yes            Yes   \n",
              "4      No        Yes             49           Yes            Yes   \n",
              "\n",
              "  Internet_Service Online_Security Online_Backup Device_Protection  \\\n",
              "0              DSL             Yes           Yes                No   \n",
              "1      Fiber optic              No            No                No   \n",
              "2      Fiber optic              No            No               Yes   \n",
              "3      Fiber optic              No            No               Yes   \n",
              "4      Fiber optic              No           Yes               Yes   \n",
              "\n",
              "  Tech_Support Streaming_TV Streaming_Movies        Contract  \\\n",
              "0           No           No               No  Month-to-month   \n",
              "1           No           No               No  Month-to-month   \n",
              "2           No          Yes              Yes  Month-to-month   \n",
              "3          Yes          Yes              Yes  Month-to-month   \n",
              "4           No          Yes              Yes  Month-to-month   \n",
              "\n",
              "  Paperless_Billing             Payment_Method  Monthly_Charges  \\\n",
              "0               Yes               Mailed check            53.85   \n",
              "1               Yes           Electronic check            70.70   \n",
              "2               Yes           Electronic check            99.65   \n",
              "3               Yes           Electronic check           104.80   \n",
              "4               Yes  Bank transfer (automatic)           103.70   \n",
              "\n",
              "   Total_Charges Churn_Label  Churn_Value  Churn_Score  CLTV  \n",
              "0         108.15         Yes            1           86  3239  \n",
              "1         151.65         Yes            1           67  2701  \n",
              "2         820.50         Yes            1           86  5372  \n",
              "3        3046.05         Yes            1           84  5003  \n",
              "4        5036.30         Yes            1           89  5340  "
            ]
          },
          "execution_count": 83,
          "metadata": {},
          "output_type": "execute_result"
        }
      ],
      "source": [
        "telco_1.head()"
      ]
    },
    {
      "cell_type": "code",
      "execution_count": null,
      "id": "7699ba8f",
      "metadata": {
        "id": "7699ba8f",
        "outputId": "726fd392-4d9d-4f46-8262-1e4e66e5c425"
      },
      "outputs": [
        {
          "data": {
            "text/plain": [
              "(2148    5\n",
              " Name: Churn_Score, dtype: int64,\n",
              " array([100], dtype=int64))"
            ]
          },
          "execution_count": 111,
          "metadata": {},
          "output_type": "execute_result"
        }
      ],
      "source": [
        "p1 = telco_1[telco_1['Churn_Score'] == np.min(telco_1['Churn_Score'])]   # fetching the minimum Churn Score Observation\n",
        "p2 = telco_1[telco_1['Churn_Score'] == np.max(telco_1['Churn_Score'])]   # fetching the maximum Churn Score Observation\n",
        "p1['Churn_Score'],p2['Churn_Score'].unique()"
      ]
    },
    {
      "cell_type": "markdown",
      "id": "98f4c35c",
      "metadata": {
        "id": "98f4c35c"
      },
      "source": [
        "**Observation :**\n",
        "1. The Minimum Churn Score in the data set is : 5\n",
        "2. The Maximum Churn Score in the data set is : 100\n",
        "\n"
      ]
    },
    {
      "cell_type": "code",
      "execution_count": null,
      "id": "acc5e6d9",
      "metadata": {
        "id": "acc5e6d9",
        "outputId": "106c2064-faad-467a-f08a-a4fdac3c0f03"
      },
      "outputs": [
        {
          "name": "stdout",
          "output_type": "stream",
          "text": [
            "Payment method that has the Minimum Churn_Score : ['Credit card (automatic)']\n",
            "Payment method that has the Maximum Churn_Score : ['Electronic check' 'Bank transfer (automatic)' 'Mailed check'\n",
            " 'Credit card (automatic)']\n"
          ]
        }
      ],
      "source": [
        "print(\"Payment method that has the Minimum Churn_Score :\",p1['Payment_Method'].unique())  # printing the Payment Method that has min Total Charges\n",
        "print(\"Payment method that has the Maximum Churn_Score :\",p2['Payment_Method'].unique())  # printing the Payment Method that has max Total Charges"
      ]
    },
    {
      "cell_type": "markdown",
      "id": "5a77b333",
      "metadata": {
        "id": "5a77b333"
      },
      "source": [
        "**Observation :**\n",
        "1. Payment method that has the Minimum Churn Score is **Credit card** has the Churn Score of 5\n",
        "2. Payment method that has the Maximum Churn Score are **Electronic check, Bank transfer, Mailed check, Credit card** has the Churn Score of 100"
      ]
    },
    {
      "cell_type": "markdown",
      "id": "f822ef9d",
      "metadata": {
        "id": "f822ef9d"
      },
      "source": [
        "### 9. Please create an appropriate plot to check the count of payment methods and explain it."
      ]
    },
    {
      "cell_type": "code",
      "execution_count": null,
      "id": "8a704c48",
      "metadata": {
        "id": "8a704c48",
        "outputId": "62e1f8fa-9fd9-43e8-c7d5-474353cc699f"
      },
      "outputs": [
        {
          "data": {
            "image/png": "[encoded data removed]",
            "text/plain": [
              "<Figure size 720x576 with 1 Axes>"
            ]
          },
          "metadata": {},
          "output_type": "display_data"
        }
      ],
      "source": [
        "# count plot for ploting the count of each payment method\n",
        "sns.countplot(x = telco_1['Payment_Method'],order=telco_1['Payment_Method'].value_counts().index)\n",
        "\n",
        "for i,df in enumerate(telco_1['Payment_Method'].value_counts()):\n",
        "    plt.text(i,df,str(df))                                      # ploting the counts of categiers\n",
        "\n",
        "plt.xlabel(\"Payment Method\")         # setting x label\n",
        "plt.title(\"Count of Payment Methods\")         # setting title of the plot\n",
        "plt.show()"
      ]
    },
    {
      "cell_type": "markdown",
      "id": "e855379a",
      "metadata": {
        "id": "e855379a"
      },
      "source": [
        "**Observation :**\n",
        "1. The Electronic check payment method has the highest count of 2365\n",
        "2. The Mailed check payment method has the second highest count of 1612\n",
        "3. The Bank transfer payment method has the third highest count of 1544\n",
        "4. The Credit card payment method has the least count of 1512"
      ]
    },
    {
      "cell_type": "markdown",
      "id": "0d82c711",
      "metadata": {
        "id": "0d82c711"
      },
      "source": [
        "**So, By the results most of the customers used Electronic check payment method for the payment.**"
      ]
    },
    {
      "cell_type": "markdown",
      "id": "7143d3aa",
      "metadata": {
        "id": "7143d3aa"
      },
      "source": [
        "### 10. Please create an appropriate plot to see the relationship between monthly charges and total charges."
      ]
    },
    {
      "cell_type": "code",
      "execution_count": null,
      "id": "477c6530",
      "metadata": {
        "id": "477c6530",
        "outputId": "0cf1f0a8-7e41-4943-9926-66e8d70cdaad"
      },
      "outputs": [
        {
          "data": {
            "image/png": "[encoded data removed]",
            "text/plain": [
              "<Figure size 720x576 with 1 Axes>"
            ]
          },
          "metadata": {},
          "output_type": "display_data"
        }
      ],
      "source": [
        "# Scatter plot for finding the relationship\n",
        "sns.scatterplot(x = telco_2['Monthly_Charges'], y = telco_2['Total_Charges']) \n",
        "plt.xlabel(\"Monthly Charges\")      # setting x label\n",
        "plt.ylabel(\"Total Charges\")        # setting y label\n",
        "plt.title(\"Relationship between Monthly charges and Total charges\")\n",
        "plt.show()"
      ]
    },
    {
      "cell_type": "markdown",
      "id": "05f02d91",
      "metadata": {
        "id": "05f02d91"
      },
      "source": [
        "By the scatter plot, the Monthly Charges and Total charges features are Moderatly postivily correlated. But let me check the correlation value between the  Monthly Charges and Total charges features."
      ]
    },
    {
      "cell_type": "code",
      "execution_count": null,
      "id": "ad812a1e",
      "metadata": {
        "id": "ad812a1e",
        "outputId": "e8f53fab-93b9-479d-88a0-3e624d4d07be"
      },
      "outputs": [
        {
          "data": {
            "text/plain": [
              "0.6504680404415559"
            ]
          },
          "execution_count": 134,
          "metadata": {},
          "output_type": "execute_result"
        }
      ],
      "source": [
        "# finding correlation value between Monthly Charges and Total charges features.\n",
        "telco_2['Monthly_Charges'].corr(telco_2['Total_Charges'])   "
      ]
    },
    {
      "cell_type": "markdown",
      "id": "436873ab",
      "metadata": {
        "id": "436873ab"
      },
      "source": [
        "The result is 0.65 so it is good correlation and there is a Moderate Positive relationship between these two features."
      ]
    }
  ],
  "metadata": {
    "kernelspec": {
      "display_name": "Python 3 (ipykernel)",
      "language": "python",
      "name": "python3"
    },
    "language_info": {
      "codemirror_mode": {
        "name": "ipython",
        "version": 3
      },
      "file_extension": ".py",
      "mimetype": "text/x-python",
      "name": "python",
      "nbconvert_exporter": "python",
      "pygments_lexer": "ipython3",
      "version": "3.9.7"
    },
    "colab": {
      "provenance": []
    }
  },
  "nbformat": 4,
  "nbformat_minor": 5
}